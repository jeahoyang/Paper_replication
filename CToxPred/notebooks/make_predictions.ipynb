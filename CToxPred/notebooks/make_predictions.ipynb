{
 "cells": [
  {
   "cell_type": "code",
   "id": "75857114",
   "metadata": {
    "ExecuteTime": {
     "end_time": "2024-11-18T08:53:51.320171Z",
     "start_time": "2024-11-18T08:53:51.300786Z"
    }
   },
   "source": [
    "import os\n",
    "import sys\n",
    "\n",
    "path = ['..', 'CToxPred']\n",
    "src_dir = os.path.abspath(os.path.join(*path))\n",
    "if src_dir not in sys.path:\n",
    "    sys.path.append(src_dir)"
   ],
   "outputs": [],
   "execution_count": 63
  },
  {
   "metadata": {
    "ExecuteTime": {
     "end_time": "2024-11-18T08:53:51.710987Z",
     "start_time": "2024-11-18T08:53:51.702011Z"
    }
   },
   "cell_type": "code",
   "source": [
    "import os\n",
    "print(os.getcwd())"
   ],
   "id": "9283c8ae0e77fc8a",
   "outputs": [
    {
     "name": "stdout",
     "output_type": "stream",
     "text": [
      "C:\\Users\\ADS_Lab\\Desktop\\JH\\Paper_Replication\\CToxPred\\notebooks\n"
     ]
    }
   ],
   "execution_count": 64
  },
  {
   "metadata": {
    "ExecuteTime": {
     "end_time": "2024-11-18T08:53:52.772628Z",
     "start_time": "2024-11-18T08:53:52.760686Z"
    }
   },
   "cell_type": "code",
   "source": "",
   "id": "a3baa93d789a5337",
   "outputs": [],
   "execution_count": null
  },
  {
   "cell_type": "code",
   "id": "52da5097",
   "metadata": {
    "ExecuteTime": {
     "end_time": "2024-11-18T08:53:53.116998Z",
     "start_time": "2024-11-18T08:53:53.104031Z"
    }
   },
   "source": [
    "import joblib\n",
    "from typing import List\n",
    "\n",
    "import matplotlib.pyplot as plt\n",
    "import numpy as np\n",
    "import pandas as pd\n",
    "from sklearn.metrics import confusion_matrix\n",
    "import seaborn as sns\n",
    "import torch\n",
    "\n",
    "from pairwise_correlation import CorrelationThreshold\n",
    "from CToxPred.utils import compute_fingerprint_features, compute_descriptor_features, compute_metrics\n",
    "from CToxPred.hERG_model import hERGClassifier\n",
    "from CToxPred.nav15_model import Nav15Classifier\n",
    "from CToxPred.cav12_model import Cav12Classifier"
   ],
   "outputs": [],
   "execution_count": 65
  },
  {
   "cell_type": "markdown",
   "id": "7a75af17",
   "metadata": {
    "ExecuteTime": {
     "end_time": "2024-11-14T15:17:36.313618Z",
     "start_time": "2024-11-14T15:17:33.920326Z"
    }
   },
   "source": [
    "### Load data"
   ]
  },
  {
   "cell_type": "code",
   "id": "177627d7",
   "metadata": {
    "ExecuteTime": {
     "end_time": "2024-11-18T08:53:55.616587Z",
     "start_time": "2024-11-18T08:53:55.558452Z"
    }
   },
   "source": [
    "## hERG\n",
    "eval_herg_set_60 = pd.read_csv(\"../data/raw/hERG/eval_set_herg_60.csv\")\n",
    "eval_herg_set_70 = pd.read_csv(\"../data/raw/hERG/eval_set_herg_70.csv\")\n",
    "## Nav1.5\n",
    "eval_nav_set_60 = pd.read_csv(\"../data/raw/Nav1.5/eval_set_nav_60.csv\")\n",
    "eval_nav_set_70 = pd.read_csv(\"../data/raw/Nav1.5/eval_set_nav_70.csv\")\n",
    "## Cav1.2\n",
    "eval_cav_set_60 = pd.read_csv(\"../data/raw/Cav1.2/eval_set_cav_60.csv\")\n",
    "eval_cav_set_70 = pd.read_csv(\"../data/raw/Cav1.2/eval_set_cav_70.csv\")"
   ],
   "outputs": [],
   "execution_count": 66
  },
  {
   "metadata": {
    "ExecuteTime": {
     "end_time": "2024-11-16T12:39:44.477704Z",
     "start_time": "2024-11-16T12:39:44.446468Z"
    }
   },
   "cell_type": "code",
   "source": "eval_cav_set_70",
   "id": "31a9417ba65a045",
   "outputs": [
    {
     "data": {
      "text/plain": [
       "                      InChl Key  \\\n",
       "0   UYZIPLMTFSGKAJ-OAHLLOKOSA-N   \n",
       "1   YVLZVIUUVUBKNC-QGZVFWFLSA-N   \n",
       "2   FLNYLINBEZROPL-NSOVKSMOSA-N   \n",
       "3   KTQASNDGWLUTPN-UHFFFAOYSA-N   \n",
       "4   PAJSQNJPMJTKTN-UHFFFAOYSA-N   \n",
       "..                          ...   \n",
       "76  FTUDAMYKRYOOIG-UHFFFAOYSA-N   \n",
       "77  ZUSRJOLABHKRGS-UHFFFAOYSA-N   \n",
       "78  ODICPULKHOZXSO-UHFFFAOYSA-N   \n",
       "79  AARJIBDJVXSJTN-UHFFFAOYSA-N   \n",
       "80  CVMLRZLTFZHPGP-DTQAZKPQSA-N   \n",
       "\n",
       "                                               SMILES  Source      ChEMBL ID  \\\n",
       "0     N[C@H](COCc1cc(C(F)(F)F)cc(C(F)(F)F)c1)c1ccccc1  ChEMBL    CHEMBL92818   \n",
       "1   CN(CC(N)=O)[C@H](COCc1cc(C(F)(F)F)cc(C(F)(F)F)...  ChEMBL   CHEMBL327765   \n",
       "2   COc1ccccc1CN[C@H]1C2CCN(CC2)[C@H]1C(c1ccccc1)c...  ChEMBL    CHEMBL16192   \n",
       "3          Cc1ccc(CN2CCC(n3c(O)nc4ccccc43)CC2)c(Cl)c1  ChEMBL   CHEMBL114484   \n",
       "4     Cc1ccc2nc(O)n(C3CCN(Cc4cc5c(cc4Cl)OCO5)CC3)c2c1  ChEMBL   CHEMBL420863   \n",
       "..                                                ...     ...            ...   \n",
       "76         COC(=O)C1=CNC=C(C(=O)OC)C1c1ccc(Cl)c(Cl)c1  ChEMBL   CHEMBL602780   \n",
       "77   CCOC(=O)C1=C(C)NC(C)=C(C(=O)OCC)C1c1ccc(OC)cc1OC  ChEMBL  CHEMBL2063635   \n",
       "78    COC(=O)C1=C(C)N(C)C(C)=C(C(=O)OC)C1c1cccc(Cl)c1  ChEMBL  CHEMBL2063807   \n",
       "79        CCOC(=O)C1=C(C)NC(C)=C(C(=O)OC)C1c1ccc(C)o1  ChEMBL  CHEMBL2063639   \n",
       "80     COC(=O)C1=C(C)N=C(C)/C(=C(/O)OC)C1c1cccc(Cl)c1  ChEMBL    CHEMBL38597   \n",
       "\n",
       "    PubChem CID    pIC50  \n",
       "0           NaN  6.23657  \n",
       "1           NaN  5.00000  \n",
       "2           NaN  6.61979  \n",
       "3           NaN  5.87290  \n",
       "4           NaN  5.76700  \n",
       "..          ...      ...  \n",
       "76          NaN  6.00000  \n",
       "77          NaN  6.00000  \n",
       "78          NaN  6.00000  \n",
       "79          NaN  6.00000  \n",
       "80          NaN  6.00000  \n",
       "\n",
       "[81 rows x 6 columns]"
      ],
      "text/html": [
       "<div>\n",
       "<style scoped>\n",
       "    .dataframe tbody tr th:only-of-type {\n",
       "        vertical-align: middle;\n",
       "    }\n",
       "\n",
       "    .dataframe tbody tr th {\n",
       "        vertical-align: top;\n",
       "    }\n",
       "\n",
       "    .dataframe thead th {\n",
       "        text-align: right;\n",
       "    }\n",
       "</style>\n",
       "<table border=\"1\" class=\"dataframe\">\n",
       "  <thead>\n",
       "    <tr style=\"text-align: right;\">\n",
       "      <th></th>\n",
       "      <th>InChl Key</th>\n",
       "      <th>SMILES</th>\n",
       "      <th>Source</th>\n",
       "      <th>ChEMBL ID</th>\n",
       "      <th>PubChem CID</th>\n",
       "      <th>pIC50</th>\n",
       "    </tr>\n",
       "  </thead>\n",
       "  <tbody>\n",
       "    <tr>\n",
       "      <th>0</th>\n",
       "      <td>UYZIPLMTFSGKAJ-OAHLLOKOSA-N</td>\n",
       "      <td>N[C@H](COCc1cc(C(F)(F)F)cc(C(F)(F)F)c1)c1ccccc1</td>\n",
       "      <td>ChEMBL</td>\n",
       "      <td>CHEMBL92818</td>\n",
       "      <td>NaN</td>\n",
       "      <td>6.23657</td>\n",
       "    </tr>\n",
       "    <tr>\n",
       "      <th>1</th>\n",
       "      <td>YVLZVIUUVUBKNC-QGZVFWFLSA-N</td>\n",
       "      <td>CN(CC(N)=O)[C@H](COCc1cc(C(F)(F)F)cc(C(F)(F)F)...</td>\n",
       "      <td>ChEMBL</td>\n",
       "      <td>CHEMBL327765</td>\n",
       "      <td>NaN</td>\n",
       "      <td>5.00000</td>\n",
       "    </tr>\n",
       "    <tr>\n",
       "      <th>2</th>\n",
       "      <td>FLNYLINBEZROPL-NSOVKSMOSA-N</td>\n",
       "      <td>COc1ccccc1CN[C@H]1C2CCN(CC2)[C@H]1C(c1ccccc1)c...</td>\n",
       "      <td>ChEMBL</td>\n",
       "      <td>CHEMBL16192</td>\n",
       "      <td>NaN</td>\n",
       "      <td>6.61979</td>\n",
       "    </tr>\n",
       "    <tr>\n",
       "      <th>3</th>\n",
       "      <td>KTQASNDGWLUTPN-UHFFFAOYSA-N</td>\n",
       "      <td>Cc1ccc(CN2CCC(n3c(O)nc4ccccc43)CC2)c(Cl)c1</td>\n",
       "      <td>ChEMBL</td>\n",
       "      <td>CHEMBL114484</td>\n",
       "      <td>NaN</td>\n",
       "      <td>5.87290</td>\n",
       "    </tr>\n",
       "    <tr>\n",
       "      <th>4</th>\n",
       "      <td>PAJSQNJPMJTKTN-UHFFFAOYSA-N</td>\n",
       "      <td>Cc1ccc2nc(O)n(C3CCN(Cc4cc5c(cc4Cl)OCO5)CC3)c2c1</td>\n",
       "      <td>ChEMBL</td>\n",
       "      <td>CHEMBL420863</td>\n",
       "      <td>NaN</td>\n",
       "      <td>5.76700</td>\n",
       "    </tr>\n",
       "    <tr>\n",
       "      <th>...</th>\n",
       "      <td>...</td>\n",
       "      <td>...</td>\n",
       "      <td>...</td>\n",
       "      <td>...</td>\n",
       "      <td>...</td>\n",
       "      <td>...</td>\n",
       "    </tr>\n",
       "    <tr>\n",
       "      <th>76</th>\n",
       "      <td>FTUDAMYKRYOOIG-UHFFFAOYSA-N</td>\n",
       "      <td>COC(=O)C1=CNC=C(C(=O)OC)C1c1ccc(Cl)c(Cl)c1</td>\n",
       "      <td>ChEMBL</td>\n",
       "      <td>CHEMBL602780</td>\n",
       "      <td>NaN</td>\n",
       "      <td>6.00000</td>\n",
       "    </tr>\n",
       "    <tr>\n",
       "      <th>77</th>\n",
       "      <td>ZUSRJOLABHKRGS-UHFFFAOYSA-N</td>\n",
       "      <td>CCOC(=O)C1=C(C)NC(C)=C(C(=O)OCC)C1c1ccc(OC)cc1OC</td>\n",
       "      <td>ChEMBL</td>\n",
       "      <td>CHEMBL2063635</td>\n",
       "      <td>NaN</td>\n",
       "      <td>6.00000</td>\n",
       "    </tr>\n",
       "    <tr>\n",
       "      <th>78</th>\n",
       "      <td>ODICPULKHOZXSO-UHFFFAOYSA-N</td>\n",
       "      <td>COC(=O)C1=C(C)N(C)C(C)=C(C(=O)OC)C1c1cccc(Cl)c1</td>\n",
       "      <td>ChEMBL</td>\n",
       "      <td>CHEMBL2063807</td>\n",
       "      <td>NaN</td>\n",
       "      <td>6.00000</td>\n",
       "    </tr>\n",
       "    <tr>\n",
       "      <th>79</th>\n",
       "      <td>AARJIBDJVXSJTN-UHFFFAOYSA-N</td>\n",
       "      <td>CCOC(=O)C1=C(C)NC(C)=C(C(=O)OC)C1c1ccc(C)o1</td>\n",
       "      <td>ChEMBL</td>\n",
       "      <td>CHEMBL2063639</td>\n",
       "      <td>NaN</td>\n",
       "      <td>6.00000</td>\n",
       "    </tr>\n",
       "    <tr>\n",
       "      <th>80</th>\n",
       "      <td>CVMLRZLTFZHPGP-DTQAZKPQSA-N</td>\n",
       "      <td>COC(=O)C1=C(C)N=C(C)/C(=C(/O)OC)C1c1cccc(Cl)c1</td>\n",
       "      <td>ChEMBL</td>\n",
       "      <td>CHEMBL38597</td>\n",
       "      <td>NaN</td>\n",
       "      <td>6.00000</td>\n",
       "    </tr>\n",
       "  </tbody>\n",
       "</table>\n",
       "<p>81 rows × 6 columns</p>\n",
       "</div>"
      ]
     },
     "execution_count": 52,
     "metadata": {},
     "output_type": "execute_result"
    }
   ],
   "execution_count": 52
  },
  {
   "metadata": {
    "ExecuteTime": {
     "end_time": "2024-11-18T08:54:11.850242Z",
     "start_time": "2024-11-18T08:54:11.826172Z"
    }
   },
   "cell_type": "code",
   "source": "eval_herg_set_70",
   "id": "135068f348d2eb2f",
   "outputs": [
    {
     "data": {
      "text/plain": [
       "                       InChl Key  \\\n",
       "0    JPDCMOOBLLIEFK-UHFFFAOYSA-N   \n",
       "1    PKPIKMRNRASAMG-UHFFFAOYSA-N   \n",
       "2    APFLBUWSTCFNIE-UHFFFAOYSA-N   \n",
       "3    HGZIMTNVCYVDSN-UHFFFAOYSA-N   \n",
       "4    MRAZBVXMLFFLEZ-UHFFFAOYSA-N   \n",
       "..                           ...   \n",
       "468  DDHVVNWORMJVLB-UHFFFAOYSA-O   \n",
       "469  UTMPBYAPGSEZCC-UHFFFAOYSA-O   \n",
       "470  VMCOPKACEUYYIT-UHFFFAOYSA-O   \n",
       "471  ZXZKBUDCPJISJW-UHFFFAOYSA-N   \n",
       "472  WYKRFGYHTDMMFI-UHFFFAOYSA-N   \n",
       "\n",
       "                                                SMILES              Source  \\\n",
       "0               Fc1ccc(-c2cnn(CCc3cn[nH]c3)c2)cc1C(F)F           US Patent   \n",
       "1    COc1c(NC(=O)Nc2ccc(Oc3ccnc(Nc4ccccc4)c3)c3cccc...           US Patent   \n",
       "2                         CNCC(Cc1cccs1)c1ccc2ccccc2c1           US Patent   \n",
       "3    CC(C)n1c(NCC2CNCCO2)nc2c([N+](=O)[O-])c(Br)c(B...           US Patent   \n",
       "4                      CNCC(Cc1ccccc1OC)c1ccc2ccccc2c1           US Patent   \n",
       "..                                                 ...                 ...   \n",
       "468       Fc1ccc2c(C3C[NH2+]CCC3F)c(C3CCCCCC3)[nH]c2c1  Konda et al., 2019   \n",
       "469      Fc1ccc2c(C3C[NH2+]CCC3F)c(C3=CNC=CC3)[nH]c2c1  Konda et al., 2019   \n",
       "470       Fc1ccc(-c2[nH]c3cc(F)ccc3c2C2CCC[NH2+]C2)cc1  Konda et al., 2019   \n",
       "471  Cn1ccnc1C(=O)N1CCC(c2ccc(C(=O)N=C(N)N)cc2C(F)(...  Konda et al., 2019   \n",
       "472  N#Cc1cccc(C(=O)N2CCC(c3ccc(C(=O)N=C(N)N)cc3C(F...  Konda et al., 2019   \n",
       "\n",
       "     PubChem CID     pIC50  \n",
       "0            NaN  5.686133  \n",
       "1            NaN  5.522879  \n",
       "2            NaN  5.387216  \n",
       "3            NaN  5.379864  \n",
       "4            NaN  5.327902  \n",
       "..           ...       ...  \n",
       "468          NaN  5.270000  \n",
       "469          NaN  5.600000  \n",
       "470          NaN  5.890000  \n",
       "471          NaN  4.520000  \n",
       "472          NaN  4.520000  \n",
       "\n",
       "[473 rows x 5 columns]"
      ],
      "text/html": [
       "<div>\n",
       "<style scoped>\n",
       "    .dataframe tbody tr th:only-of-type {\n",
       "        vertical-align: middle;\n",
       "    }\n",
       "\n",
       "    .dataframe tbody tr th {\n",
       "        vertical-align: top;\n",
       "    }\n",
       "\n",
       "    .dataframe thead th {\n",
       "        text-align: right;\n",
       "    }\n",
       "</style>\n",
       "<table border=\"1\" class=\"dataframe\">\n",
       "  <thead>\n",
       "    <tr style=\"text-align: right;\">\n",
       "      <th></th>\n",
       "      <th>InChl Key</th>\n",
       "      <th>SMILES</th>\n",
       "      <th>Source</th>\n",
       "      <th>PubChem CID</th>\n",
       "      <th>pIC50</th>\n",
       "    </tr>\n",
       "  </thead>\n",
       "  <tbody>\n",
       "    <tr>\n",
       "      <th>0</th>\n",
       "      <td>JPDCMOOBLLIEFK-UHFFFAOYSA-N</td>\n",
       "      <td>Fc1ccc(-c2cnn(CCc3cn[nH]c3)c2)cc1C(F)F</td>\n",
       "      <td>US Patent</td>\n",
       "      <td>NaN</td>\n",
       "      <td>5.686133</td>\n",
       "    </tr>\n",
       "    <tr>\n",
       "      <th>1</th>\n",
       "      <td>PKPIKMRNRASAMG-UHFFFAOYSA-N</td>\n",
       "      <td>COc1c(NC(=O)Nc2ccc(Oc3ccnc(Nc4ccccc4)c3)c3cccc...</td>\n",
       "      <td>US Patent</td>\n",
       "      <td>NaN</td>\n",
       "      <td>5.522879</td>\n",
       "    </tr>\n",
       "    <tr>\n",
       "      <th>2</th>\n",
       "      <td>APFLBUWSTCFNIE-UHFFFAOYSA-N</td>\n",
       "      <td>CNCC(Cc1cccs1)c1ccc2ccccc2c1</td>\n",
       "      <td>US Patent</td>\n",
       "      <td>NaN</td>\n",
       "      <td>5.387216</td>\n",
       "    </tr>\n",
       "    <tr>\n",
       "      <th>3</th>\n",
       "      <td>HGZIMTNVCYVDSN-UHFFFAOYSA-N</td>\n",
       "      <td>CC(C)n1c(NCC2CNCCO2)nc2c([N+](=O)[O-])c(Br)c(B...</td>\n",
       "      <td>US Patent</td>\n",
       "      <td>NaN</td>\n",
       "      <td>5.379864</td>\n",
       "    </tr>\n",
       "    <tr>\n",
       "      <th>4</th>\n",
       "      <td>MRAZBVXMLFFLEZ-UHFFFAOYSA-N</td>\n",
       "      <td>CNCC(Cc1ccccc1OC)c1ccc2ccccc2c1</td>\n",
       "      <td>US Patent</td>\n",
       "      <td>NaN</td>\n",
       "      <td>5.327902</td>\n",
       "    </tr>\n",
       "    <tr>\n",
       "      <th>...</th>\n",
       "      <td>...</td>\n",
       "      <td>...</td>\n",
       "      <td>...</td>\n",
       "      <td>...</td>\n",
       "      <td>...</td>\n",
       "    </tr>\n",
       "    <tr>\n",
       "      <th>468</th>\n",
       "      <td>DDHVVNWORMJVLB-UHFFFAOYSA-O</td>\n",
       "      <td>Fc1ccc2c(C3C[NH2+]CCC3F)c(C3CCCCCC3)[nH]c2c1</td>\n",
       "      <td>Konda et al., 2019</td>\n",
       "      <td>NaN</td>\n",
       "      <td>5.270000</td>\n",
       "    </tr>\n",
       "    <tr>\n",
       "      <th>469</th>\n",
       "      <td>UTMPBYAPGSEZCC-UHFFFAOYSA-O</td>\n",
       "      <td>Fc1ccc2c(C3C[NH2+]CCC3F)c(C3=CNC=CC3)[nH]c2c1</td>\n",
       "      <td>Konda et al., 2019</td>\n",
       "      <td>NaN</td>\n",
       "      <td>5.600000</td>\n",
       "    </tr>\n",
       "    <tr>\n",
       "      <th>470</th>\n",
       "      <td>VMCOPKACEUYYIT-UHFFFAOYSA-O</td>\n",
       "      <td>Fc1ccc(-c2[nH]c3cc(F)ccc3c2C2CCC[NH2+]C2)cc1</td>\n",
       "      <td>Konda et al., 2019</td>\n",
       "      <td>NaN</td>\n",
       "      <td>5.890000</td>\n",
       "    </tr>\n",
       "    <tr>\n",
       "      <th>471</th>\n",
       "      <td>ZXZKBUDCPJISJW-UHFFFAOYSA-N</td>\n",
       "      <td>Cn1ccnc1C(=O)N1CCC(c2ccc(C(=O)N=C(N)N)cc2C(F)(...</td>\n",
       "      <td>Konda et al., 2019</td>\n",
       "      <td>NaN</td>\n",
       "      <td>4.520000</td>\n",
       "    </tr>\n",
       "    <tr>\n",
       "      <th>472</th>\n",
       "      <td>WYKRFGYHTDMMFI-UHFFFAOYSA-N</td>\n",
       "      <td>N#Cc1cccc(C(=O)N2CCC(c3ccc(C(=O)N=C(N)N)cc3C(F...</td>\n",
       "      <td>Konda et al., 2019</td>\n",
       "      <td>NaN</td>\n",
       "      <td>4.520000</td>\n",
       "    </tr>\n",
       "  </tbody>\n",
       "</table>\n",
       "<p>473 rows × 5 columns</p>\n",
       "</div>"
      ]
     },
     "execution_count": 67,
     "metadata": {},
     "output_type": "execute_result"
    }
   ],
   "execution_count": 67
  },
  {
   "cell_type": "markdown",
   "id": "7569ec39",
   "metadata": {},
   "source": [
    "### Assign labels"
   ]
  },
  {
   "cell_type": "code",
   "id": "40d9ff95",
   "metadata": {
    "ExecuteTime": {
     "end_time": "2024-11-18T08:54:27.928156Z",
     "start_time": "2024-11-18T08:54:27.907371Z"
    }
   },
   "source": [
    "## Label the sets\n",
    "eval_herg_set_60['Label'] = np.where(eval_herg_set_60['pIC50'] >= 5, 1, 0)\n",
    "eval_herg_set_70['Label'] = np.where(eval_herg_set_70['pIC50'] >= 5, 1, 0)\n",
    "## Label the sets\n",
    "eval_nav_set_60['Label'] = np.where(eval_nav_set_60['pIC50'] >= 5, 1, 0)\n",
    "eval_nav_set_70['Label'] = np.where(eval_nav_set_70['pIC50'] >= 5, 1, 0)\n",
    "## Label the sets\n",
    "eval_cav_set_60['Label'] = np.where(eval_cav_set_60['pIC50'] >= 5, 1, 0)\n",
    "eval_cav_set_70['Label'] = np.where(eval_cav_set_70['pIC50'] >= 5, 1, 0)"
   ],
   "outputs": [],
   "execution_count": 68
  },
  {
   "metadata": {
    "ExecuteTime": {
     "end_time": "2024-11-18T08:54:32.255750Z",
     "start_time": "2024-11-18T08:54:32.231736Z"
    }
   },
   "cell_type": "code",
   "source": "eval_herg_set_70",
   "id": "11f19a27bc407fe7",
   "outputs": [
    {
     "data": {
      "text/plain": [
       "                       InChl Key  \\\n",
       "0    JPDCMOOBLLIEFK-UHFFFAOYSA-N   \n",
       "1    PKPIKMRNRASAMG-UHFFFAOYSA-N   \n",
       "2    APFLBUWSTCFNIE-UHFFFAOYSA-N   \n",
       "3    HGZIMTNVCYVDSN-UHFFFAOYSA-N   \n",
       "4    MRAZBVXMLFFLEZ-UHFFFAOYSA-N   \n",
       "..                           ...   \n",
       "468  DDHVVNWORMJVLB-UHFFFAOYSA-O   \n",
       "469  UTMPBYAPGSEZCC-UHFFFAOYSA-O   \n",
       "470  VMCOPKACEUYYIT-UHFFFAOYSA-O   \n",
       "471  ZXZKBUDCPJISJW-UHFFFAOYSA-N   \n",
       "472  WYKRFGYHTDMMFI-UHFFFAOYSA-N   \n",
       "\n",
       "                                                SMILES              Source  \\\n",
       "0               Fc1ccc(-c2cnn(CCc3cn[nH]c3)c2)cc1C(F)F           US Patent   \n",
       "1    COc1c(NC(=O)Nc2ccc(Oc3ccnc(Nc4ccccc4)c3)c3cccc...           US Patent   \n",
       "2                         CNCC(Cc1cccs1)c1ccc2ccccc2c1           US Patent   \n",
       "3    CC(C)n1c(NCC2CNCCO2)nc2c([N+](=O)[O-])c(Br)c(B...           US Patent   \n",
       "4                      CNCC(Cc1ccccc1OC)c1ccc2ccccc2c1           US Patent   \n",
       "..                                                 ...                 ...   \n",
       "468       Fc1ccc2c(C3C[NH2+]CCC3F)c(C3CCCCCC3)[nH]c2c1  Konda et al., 2019   \n",
       "469      Fc1ccc2c(C3C[NH2+]CCC3F)c(C3=CNC=CC3)[nH]c2c1  Konda et al., 2019   \n",
       "470       Fc1ccc(-c2[nH]c3cc(F)ccc3c2C2CCC[NH2+]C2)cc1  Konda et al., 2019   \n",
       "471  Cn1ccnc1C(=O)N1CCC(c2ccc(C(=O)N=C(N)N)cc2C(F)(...  Konda et al., 2019   \n",
       "472  N#Cc1cccc(C(=O)N2CCC(c3ccc(C(=O)N=C(N)N)cc3C(F...  Konda et al., 2019   \n",
       "\n",
       "     PubChem CID     pIC50  Label  \n",
       "0            NaN  5.686133      1  \n",
       "1            NaN  5.522879      1  \n",
       "2            NaN  5.387216      1  \n",
       "3            NaN  5.379864      1  \n",
       "4            NaN  5.327902      1  \n",
       "..           ...       ...    ...  \n",
       "468          NaN  5.270000      1  \n",
       "469          NaN  5.600000      1  \n",
       "470          NaN  5.890000      1  \n",
       "471          NaN  4.520000      0  \n",
       "472          NaN  4.520000      0  \n",
       "\n",
       "[473 rows x 6 columns]"
      ],
      "text/html": [
       "<div>\n",
       "<style scoped>\n",
       "    .dataframe tbody tr th:only-of-type {\n",
       "        vertical-align: middle;\n",
       "    }\n",
       "\n",
       "    .dataframe tbody tr th {\n",
       "        vertical-align: top;\n",
       "    }\n",
       "\n",
       "    .dataframe thead th {\n",
       "        text-align: right;\n",
       "    }\n",
       "</style>\n",
       "<table border=\"1\" class=\"dataframe\">\n",
       "  <thead>\n",
       "    <tr style=\"text-align: right;\">\n",
       "      <th></th>\n",
       "      <th>InChl Key</th>\n",
       "      <th>SMILES</th>\n",
       "      <th>Source</th>\n",
       "      <th>PubChem CID</th>\n",
       "      <th>pIC50</th>\n",
       "      <th>Label</th>\n",
       "    </tr>\n",
       "  </thead>\n",
       "  <tbody>\n",
       "    <tr>\n",
       "      <th>0</th>\n",
       "      <td>JPDCMOOBLLIEFK-UHFFFAOYSA-N</td>\n",
       "      <td>Fc1ccc(-c2cnn(CCc3cn[nH]c3)c2)cc1C(F)F</td>\n",
       "      <td>US Patent</td>\n",
       "      <td>NaN</td>\n",
       "      <td>5.686133</td>\n",
       "      <td>1</td>\n",
       "    </tr>\n",
       "    <tr>\n",
       "      <th>1</th>\n",
       "      <td>PKPIKMRNRASAMG-UHFFFAOYSA-N</td>\n",
       "      <td>COc1c(NC(=O)Nc2ccc(Oc3ccnc(Nc4ccccc4)c3)c3cccc...</td>\n",
       "      <td>US Patent</td>\n",
       "      <td>NaN</td>\n",
       "      <td>5.522879</td>\n",
       "      <td>1</td>\n",
       "    </tr>\n",
       "    <tr>\n",
       "      <th>2</th>\n",
       "      <td>APFLBUWSTCFNIE-UHFFFAOYSA-N</td>\n",
       "      <td>CNCC(Cc1cccs1)c1ccc2ccccc2c1</td>\n",
       "      <td>US Patent</td>\n",
       "      <td>NaN</td>\n",
       "      <td>5.387216</td>\n",
       "      <td>1</td>\n",
       "    </tr>\n",
       "    <tr>\n",
       "      <th>3</th>\n",
       "      <td>HGZIMTNVCYVDSN-UHFFFAOYSA-N</td>\n",
       "      <td>CC(C)n1c(NCC2CNCCO2)nc2c([N+](=O)[O-])c(Br)c(B...</td>\n",
       "      <td>US Patent</td>\n",
       "      <td>NaN</td>\n",
       "      <td>5.379864</td>\n",
       "      <td>1</td>\n",
       "    </tr>\n",
       "    <tr>\n",
       "      <th>4</th>\n",
       "      <td>MRAZBVXMLFFLEZ-UHFFFAOYSA-N</td>\n",
       "      <td>CNCC(Cc1ccccc1OC)c1ccc2ccccc2c1</td>\n",
       "      <td>US Patent</td>\n",
       "      <td>NaN</td>\n",
       "      <td>5.327902</td>\n",
       "      <td>1</td>\n",
       "    </tr>\n",
       "    <tr>\n",
       "      <th>...</th>\n",
       "      <td>...</td>\n",
       "      <td>...</td>\n",
       "      <td>...</td>\n",
       "      <td>...</td>\n",
       "      <td>...</td>\n",
       "      <td>...</td>\n",
       "    </tr>\n",
       "    <tr>\n",
       "      <th>468</th>\n",
       "      <td>DDHVVNWORMJVLB-UHFFFAOYSA-O</td>\n",
       "      <td>Fc1ccc2c(C3C[NH2+]CCC3F)c(C3CCCCCC3)[nH]c2c1</td>\n",
       "      <td>Konda et al., 2019</td>\n",
       "      <td>NaN</td>\n",
       "      <td>5.270000</td>\n",
       "      <td>1</td>\n",
       "    </tr>\n",
       "    <tr>\n",
       "      <th>469</th>\n",
       "      <td>UTMPBYAPGSEZCC-UHFFFAOYSA-O</td>\n",
       "      <td>Fc1ccc2c(C3C[NH2+]CCC3F)c(C3=CNC=CC3)[nH]c2c1</td>\n",
       "      <td>Konda et al., 2019</td>\n",
       "      <td>NaN</td>\n",
       "      <td>5.600000</td>\n",
       "      <td>1</td>\n",
       "    </tr>\n",
       "    <tr>\n",
       "      <th>470</th>\n",
       "      <td>VMCOPKACEUYYIT-UHFFFAOYSA-O</td>\n",
       "      <td>Fc1ccc(-c2[nH]c3cc(F)ccc3c2C2CCC[NH2+]C2)cc1</td>\n",
       "      <td>Konda et al., 2019</td>\n",
       "      <td>NaN</td>\n",
       "      <td>5.890000</td>\n",
       "      <td>1</td>\n",
       "    </tr>\n",
       "    <tr>\n",
       "      <th>471</th>\n",
       "      <td>ZXZKBUDCPJISJW-UHFFFAOYSA-N</td>\n",
       "      <td>Cn1ccnc1C(=O)N1CCC(c2ccc(C(=O)N=C(N)N)cc2C(F)(...</td>\n",
       "      <td>Konda et al., 2019</td>\n",
       "      <td>NaN</td>\n",
       "      <td>4.520000</td>\n",
       "      <td>0</td>\n",
       "    </tr>\n",
       "    <tr>\n",
       "      <th>472</th>\n",
       "      <td>WYKRFGYHTDMMFI-UHFFFAOYSA-N</td>\n",
       "      <td>N#Cc1cccc(C(=O)N2CCC(c3ccc(C(=O)N=C(N)N)cc3C(F...</td>\n",
       "      <td>Konda et al., 2019</td>\n",
       "      <td>NaN</td>\n",
       "      <td>4.520000</td>\n",
       "      <td>0</td>\n",
       "    </tr>\n",
       "  </tbody>\n",
       "</table>\n",
       "<p>473 rows × 6 columns</p>\n",
       "</div>"
      ]
     },
     "execution_count": 70,
     "metadata": {},
     "output_type": "execute_result"
    }
   ],
   "execution_count": 70
  },
  {
   "cell_type": "markdown",
   "id": "15659ab1",
   "metadata": {},
   "source": [
    "### Load models"
   ]
  },
  {
   "cell_type": "code",
   "id": "3f5bdeae",
   "metadata": {
    "ExecuteTime": {
     "end_time": "2024-11-18T11:08:35.468826Z",
     "start_time": "2024-11-18T11:08:35.422217Z"
    }
   },
   "source": [
    "# def _generate_predictions(smiles_list: List[str]) -> pd.DataFrame:\n",
    "#     \"\"\"\n",
    "#     Generates predictions for hERG, Nav1.5, and Cav1.2 targets based on the provided list of SMILES.\n",
    "# \n",
    "#     This function processes the input SMILES list and computes fingerprint and descriptor features for each compound.\n",
    "#     Then, it loads pre-trained models for hERG, Nav1.5, and Cav1.2 targets, and predicts the activity of each compound\n",
    "#     for these targets using the respective models. The predictions are saved to a CSV file named 'predictions.csv'\n",
    "#     with columns: 'SMILES', 'hERG', 'Nav1.5', and 'Cav1.2'. The 'hERG', 'Nav1.5', and 'Cav1.2' columns contain the\n",
    "#     binary predictions (0 or 1) for each target, representing non-toxic (negative class) or toxic (positive class)\n",
    "#     compounds, respectively.\n",
    "# \n",
    "#     Parameters:\n",
    "#         smiles_list: List[str] \n",
    "#             A list containing SMILES strings of chemical compounds.\n",
    "# \n",
    "#     Returns:\n",
    "#         pd.DataFrame: \n",
    "#             A DataFrame with 4 columns {'SMILES', 'hERG', 'Nav1.5', Cav1.2'} containing the predictions for each target \n",
    "#             of the input SMILES strings .\n",
    "#     \"\"\"\n",
    "#     # Compute features\n",
    "#     print('>>>>>>> Calculate Features <<<<<<<')\n",
    "#     fingerprints = compute_fingerprint_features(smiles_list)\n",
    "#     descriptors = compute_descriptor_features(smiles_list)\n",
    "#     # Process hERG\n",
    "#     print('>>>>>>> Predict hERG <<<<<<<')\n",
    "#     hERG_fingerprints = fingerprints\n",
    "#     ## Load model\n",
    "#     hERG_predictor = hERGClassifier(1905, 2)\n",
    "#     path = ['..','CToxPred', 'models', 'model_weights', 'hERG',\n",
    "#             '_herg_checkpoint.model']\n",
    "#     hERG_predictor.load(os.path.join(*path))\n",
    "#     device = torch.device('cpu')\n",
    "#     hERG_predictions = hERG_predictor(\n",
    "#         torch.from_numpy(hERG_fingerprints).float().to(device)).argmax(1).cpu()\n",
    "# \n",
    "#     # Process Nav1.5\n",
    "#     print('>>>>>>> Predict Nav1.5 <<<<<<<')\n",
    "#     nav15_fingerprints = fingerprints\n",
    "#     nav15_descriptors = descriptors\n",
    "#     ## Load preprocessing pipeline\n",
    "#     path = ['..','CToxPred', 'models', 'decriptors_preprocessing', 'Nav1.5',\n",
    "#             'nav_descriptors_preprocessing_pipeline.sav']\n",
    "#     descriptors_transformation_pipeline = joblib.load(os.path.join(*path))\n",
    "#     nav15_descriptors = descriptors_transformation_pipeline.transform(\n",
    "#         nav15_descriptors)\n",
    "#     nav15_features = np.concatenate((nav15_fingerprints, nav15_descriptors),\n",
    "#                                     axis=1)\n",
    "#     ## Load model\n",
    "#     nav15_predictor = Nav15Classifier(2454, 2)\n",
    "#     path = ['..', 'CToxPred', 'models', 'model_weights', 'Nav1.5',\n",
    "#             '_nav15_checkpoint.model']\n",
    "#     nav15_predictor.load(os.path.join(*path))\n",
    "#     nav15_predictions = nav15_predictor(\n",
    "#         torch.from_numpy(nav15_features).float().to(device)).argmax(1).cpu()\n",
    "# \n",
    "#     # Process Cav1.2\n",
    "#     print('>>>>>>> Predict Cav1.2 <<<<<<<')\n",
    "#     cav12_fingerprints = fingerprints\n",
    "#     cav12_descriptors = descriptors\n",
    "#     ## Load preprocessing pipeline\n",
    "#     path = ['..', 'CToxPred', 'models', 'decriptors_preprocessing', 'Cav1.2',\n",
    "#             'cav_descriptors_preprocessing_pipeline.sav']\n",
    "#     descriptors_transformation_pipeline = joblib.load(os.path.join(*path))\n",
    "#     cav12_descriptors = descriptors_transformation_pipeline.transform(\n",
    "#         cav12_descriptors)\n",
    "#     cav12_features = np.concatenate((cav12_fingerprints, cav12_descriptors),\n",
    "#                                     axis=1)\n",
    "#     ## Load model\n",
    "#     cav12_predictor = Cav12Classifier(2586, 2)\n",
    "#     path = ['..', 'CToxPred', 'models', 'model_weights', 'Cav1.2',\n",
    "#             '_cav12_checkpoint.model']\n",
    "#     cav12_predictor.load(os.path.join(*path))\n",
    "#     cav12_predictions = cav12_predictor(\n",
    "#         torch.from_numpy(cav12_features).float().to(device)).argmax(1).cpu()\n",
    "# \n",
    "#     # Generate output\n",
    "#     results = pd.DataFrame({'SMILES': smiles_list, 'hERG': hERG_predictions,\n",
    "#                             'Nav1.5': nav15_predictions,\n",
    "#                             'Cav1.2': cav12_predictions})\n",
    "#     return results\n",
    "\n",
    "\n",
    "\n",
    "   \n",
    "\n",
    "\n",
    "def _generate_predictions(smiles_list: List[str]) -> pd.DataFrame:\n",
    "    \"\"\"\n",
    "    Generates predictions for hERG, Nav1.5, and Cav1.2 targets based on the provided list of SMILES.\n",
    "\n",
    "    This function processes the input SMILES list and computes fingerprint and descriptor features for each compound.\n",
    "    Then, it loads pre-trained models for hERG, Nav1.5, and Cav1.2 targets, and predicts the activity of each compound\n",
    "    for these targets using the respective models. The predictions are saved to a CSV file named 'predictions.csv'\n",
    "    with columns: 'SMILES', 'hERG', 'Nav1.5', and 'Cav1.2'. The 'hERG', 'Nav1.5', and 'Cav1.2' columns contain the\n",
    "    binary predictions (0 or 1) for each target, representing non-toxic (negative class) or toxic (positive class)\n",
    "    compounds, respectively.\n",
    "\n",
    "    Parameters:\n",
    "        smiles_list: List[str] \n",
    "            A list containing SMILES strings of chemical compounds.\n",
    "\n",
    "    Returns:\n",
    "        pd.DataFrame: \n",
    "            A DataFrame with 4 columns {'SMILES', 'hERG', 'Nav1.5', Cav1.2'} containing the predictions for each target \n",
    "            of the input SMILES strings.\n",
    "    \"\"\"\n",
    "    # Compute features\n",
    "    print('>>>>>>> Calculate Features <<<<<<<')\n",
    "    fingerprints = compute_fingerprint_features(smiles_list)\n",
    "    descriptors = compute_descriptor_features(smiles_list)\n",
    "\n",
    "    device = torch.device('cpu')\n",
    "\n",
    "    # Process hERG\n",
    "    print('>>>>>>> Predict hERG <<<<<<<')\n",
    "    hERG_fingerprints = fingerprints\n",
    "    # Load model\n",
    "    hERG_predictor = hERGClassifier(1905, 2)\n",
    "    path = ['..', 'CToxPred', 'models', 'model_weights', 'hERG', '_herg_checkpoint.model']\n",
    "    # path = ['..', 'pretrain', 'best_hERG_classifier_trained.model']\n",
    "    \n",
    "    hERG_predictor.load(os.path.join(*path))\n",
    "    hERG_predictions = hERG_predictor(torch.from_numpy(hERG_fingerprints).float().to(device)).argmax(1).cpu()\n",
    "    hERG_y_score = hERG_predictor(torch.from_numpy(hERG_fingerprints).float().to(device)).softmax(1).cpu().detach().numpy()\n",
    "\n",
    "    # Process Nav1.5\n",
    "    print('>>>>>>> Predict Nav1.5 <<<<<<<')\n",
    "    nav15_fingerprints = fingerprints\n",
    "    nav15_descriptors = descriptors\n",
    "    # Load preprocessing pipeline\n",
    "    path = ['..', 'CToxPred', 'models', 'decriptors_preprocessing', 'Nav1.5', 'nav_descriptors_preprocessing_pipeline.sav']\n",
    "    descriptors_transformation_pipeline = joblib.load(os.path.join(*path))\n",
    "    nav15_descriptors = descriptors_transformation_pipeline.transform(nav15_descriptors)\n",
    "    nav15_features = np.concatenate((nav15_fingerprints, nav15_descriptors), axis=1)\n",
    "    # Load model\n",
    "    nav15_predictor = Nav15Classifier(2454, 2)\n",
    "    path = ['..', 'CToxPred', 'models', 'model_weights', 'Nav1.5', '_nav15_checkpoint.model']\n",
    "    nav15_predictor.load(os.path.join(*path))\n",
    "    nav15_predictions = nav15_predictor(torch.from_numpy(nav15_features).float().to(device)).argmax(1).cpu()\n",
    "    nav15_y_score = nav15_predictor(torch.from_numpy(nav15_features).float().to(device)).softmax(1).cpu().detach().numpy()\n",
    "\n",
    "    # Process Cav1.2\n",
    "    print('>>>>>>> Predict Cav1.2 <<<<<<<')\n",
    "    cav12_fingerprints = fingerprints\n",
    "    cav12_descriptors = descriptors\n",
    "    # Load preprocessing pipeline\n",
    "    path = ['..', 'CToxPred', 'models', 'decriptors_preprocessing', 'Cav1.2', 'cav_descriptors_preprocessing_pipeline.sav']\n",
    "    descriptors_transformation_pipeline = joblib.load(os.path.join(*path))\n",
    "    cav12_descriptors = descriptors_transformation_pipeline.transform(cav12_descriptors)\n",
    "    cav12_features = np.concatenate((cav12_fingerprints, cav12_descriptors), axis=1)\n",
    "    # Load model\n",
    "    cav12_predictor = Cav12Classifier(2586, 2)\n",
    "    path = ['..', 'CToxPred', 'models', 'model_weights', 'Cav1.2', '_cav12_checkpoint.model']\n",
    "    cav12_predictor.load(os.path.join(*path))\n",
    "    cav12_predictions = cav12_predictor(torch.from_numpy(cav12_features).float().to(device)).argmax(1).cpu()\n",
    "    cav12_y_score = cav12_predictor(torch.from_numpy(cav12_features).float().to(device)).softmax(1).cpu().detach().numpy()\n",
    "\n",
    "    # Generate output\n",
    "    results = pd.DataFrame({\n",
    "        'SMILES': smiles_list, \n",
    "        'hERG': hERG_predictions,\n",
    "        'Nav1.5': nav15_predictions,\n",
    "        'Cav1.2': cav12_predictions,\n",
    "        'hERG_y_score': hERG_y_score[:, 1],  # The probability for the positive class\n",
    "        'Nav1.5_y_score': nav15_y_score[:, 1],  # The probability for the positive class\n",
    "        'Cav1.2_y_score': cav12_y_score[:, 1]   # The probability for the positive class\n",
    "    })\n",
    "    return results\n",
    "\n"
   ],
   "outputs": [],
   "execution_count": 90
  },
  {
   "cell_type": "markdown",
   "id": "c91b83cf",
   "metadata": {},
   "source": [
    "### Initialize confusion matrix"
   ]
  },
  {
   "cell_type": "code",
   "id": "d5ee2e5d",
   "metadata": {
    "ExecuteTime": {
     "end_time": "2024-11-18T09:06:57.820284Z",
     "start_time": "2024-11-18T09:06:57.804666Z"
    }
   },
   "source": [
    "def draw_confusion_matrix(ground_truth, predicted):\n",
    "    ## Compute confusion matrix\n",
    "    matrix = confusion_matrix(ground_truth, predicted)\n",
    "    percentages = (matrix.T/matrix.sum(axis=1)).T\n",
    "    ## Set cell format\n",
    "    flattened_counts = [value for value in matrix.flatten()]\n",
    "    flattened_percentages = [\"{0:.2%}\".format(value) for value in percentages.flatten()]\n",
    "    labels = [f\"{percentage}\\n{value}\" for value, percentage in \n",
    "                                      zip(flattened_counts,flattened_percentages)]\n",
    "    labels = np.asarray(labels).reshape(matrix.shape[0],matrix.shape[0])\n",
    "    ## create dataframe to set x/y-axis labels with focus on percentage\n",
    "    percentDataframe = pd.DataFrame(percentages*100, \n",
    "                           columns = ['Non-blocker','Blocker'],\n",
    "                           index = ['Non-blocker', 'Blocker'])\n",
    "    ## Plot\n",
    "    plt.style.use(['seaborn-white', 'seaborn-paper'])\n",
    "    sns.set_context('paper', font_scale=1.0)\n",
    "    width = 7\n",
    "    height = width / 1.6\n",
    "    plt.figure(figsize=(width, height))\n",
    "    ax = plt.axes()\n",
    "    \n",
    "    sns.heatmap(percentDataframe, annot = labels, fmt='',cmap= 'Blues', ax=ax, vmin=0, vmax=100, cbar_kws={'label': 'Accuracy'})\n",
    "    ax.yaxis.set_tick_params(rotation=0)\n",
    "    ax.set(xlabel='Predicted label', ylabel='True label')\n",
    "    ax.title.set_text('Accuracy = {0:.1%}'.format(sum(1 for x,y in zip(ground_truth,predicted) if x == y) / len(ground_truth)))\n",
    "    plt.show()"
   ],
   "outputs": [],
   "execution_count": 83
  },
  {
   "cell_type": "markdown",
   "id": "2a318a49",
   "metadata": {},
   "source": [
    "## Make cardiotoxicity predictions"
   ]
  },
  {
   "cell_type": "code",
   "id": "a5f7de5a",
   "metadata": {
    "jupyter": {
     "is_executing": true
    },
    "ExecuteTime": {
     "start_time": "2024-11-18T12:19:41.235197Z"
    }
   },
   "source": "predictions = _generate_predictions(eval_herg_set_70['SMILES'])",
   "outputs": [
    {
     "name": "stdout",
     "output_type": "stream",
     "text": [
      ">>>>>>> Calculate Features <<<<<<<\n"
     ]
    },
    {
     "name": "stderr",
     "output_type": "stream",
     "text": [
      " 34%|███▍      | 161/473 [00:04<00:08, 38.40it/s]\n"
     ]
    }
   ],
   "execution_count": null
  },
  {
   "cell_type": "code",
   "id": "7b97b909",
   "metadata": {
    "ExecuteTime": {
     "end_time": "2024-11-18T09:09:27.814946Z",
     "start_time": "2024-11-18T09:09:14.671073Z"
    }
   },
   "source": [
    "from sklearn.metrics import roc_auc_score\n",
    "\n",
    "# 예측 결과\n",
    "predictions = _generate_predictions(eval_herg_set_70['SMILES'])\n",
    "\n",
    "# pIC50 값을 이진 라벨로 변환\n",
    "y_true_cav12 = (eval_herg_set_70['pIC50'] >= 5).astype(int)  # 0.5 이상이면 1, 미만이면 0\n",
    "\n",
    "# Cav1.2 예측 확률값\n",
    "y_score_cav12 = predictions['hERG']\n",
    "\n",
    "# Cav1.2에 대한 AUC 계산\n",
    "auc_cav12 = roc_auc_score(y_true_cav12, y_score_cav12)\n",
    "\n",
    "# 출력\n",
    "print(f\"Cav1.2 AUC: {auc_cav12:.4f}\")\n"
   ],
   "outputs": [
    {
     "name": "stdout",
     "output_type": "stream",
     "text": [
      ">>>>>>> Calculate Features <<<<<<<\n"
     ]
    },
    {
     "name": "stderr",
     "output_type": "stream",
     "text": [
      " 51%|█████     | 242/473 [00:05<00:03, 71.00it/s]"
     ]
    },
    {
     "name": "stdout",
     "output_type": "stream",
     "text": [
      "C:\\Users\\ADS_Lab\\anaconda3\\envs\\ctoxpred\\lib\\site-packages\\numpy\\core\\fromnumeric.py:86: RuntimeWarning: overflow encountered in reduce\n",
      "  return ufunc.reduce(obj, axis, dtype, out, **passkwargs)\n",
      "C:\\Users\\ADS_Lab\\anaconda3\\envs\\ctoxpred\\lib\\site-packages\\numpy\\core\\fromnumeric.py:86: RuntimeWarning: overflow encountered in reduce\n",
      "  return ufunc.reduce(obj, axis, dtype, out, **passkwargs)\n"
     ]
    },
    {
     "name": "stderr",
     "output_type": "stream",
     "text": [
      " 62%|██████▏   | 292/473 [00:05<00:04, 36.77it/s]"
     ]
    },
    {
     "name": "stdout",
     "output_type": "stream",
     "text": [
      "C:\\Users\\ADS_Lab\\anaconda3\\envs\\ctoxpred\\lib\\site-packages\\numpy\\core\\fromnumeric.py:86: RuntimeWarning: overflow encountered in reduce\n",
      "  return ufunc.reduce(obj, axis, dtype, out, **passkwargs)\n",
      "C:\\Users\\ADS_Lab\\anaconda3\\envs\\ctoxpred\\lib\\site-packages\\numpy\\core\\fromnumeric.py:86: RuntimeWarning: overflow encountered in reduce\n",
      "  return ufunc.reduce(obj, axis, dtype, out, **passkwargs)\n"
     ]
    },
    {
     "name": "stderr",
     "output_type": "stream",
     "text": [
      "100%|██████████| 473/473 [00:08<00:00, 53.86it/s]\n"
     ]
    },
    {
     "name": "stdout",
     "output_type": "stream",
     "text": [
      ">>>>>>> Predict hERG <<<<<<<\n",
      ">>>>>>> Predict Nav1.5 <<<<<<<\n",
      ">>>>>>> Predict Cav1.2 <<<<<<<\n",
      "Cav1.2 AUC: 0.8069\n"
     ]
    }
   ],
   "execution_count": 86
  },
  {
   "metadata": {
    "ExecuteTime": {
     "end_time": "2024-11-16T12:45:27.165586Z",
     "start_time": "2024-11-16T12:45:14.209524Z"
    }
   },
   "cell_type": "code",
   "source": [
    "import matplotlib.pyplot as plt\n",
    "from sklearn.metrics import roc_curve\n",
    "import numpy as np\n",
    "\n",
    "# 예측 결과\n",
    "predictions = _generate_predictions(eval_herg_set_70['SMILES'])\n",
    "\n",
    "# pIC50 값을 이진 라벨로 변환\n",
    "y_true_cav12 = (eval_herg_set_70['pIC50'] >= 5).astype(int)  # 0.5 이상이면 1, 미만이면 0\n",
    "\n",
    "# Cav1.2 예측 확률값\n",
    "y_score_cav12 = predictions['hERG']\n",
    "\n",
    "# ROC 곡선 계산\n",
    "fpr, tpr, thresholds = roc_curve(y_true_cav12, y_score_cav12)\n",
    "\n",
    "# 계단식으로 변하는 ROC 그래프\n",
    "plt.figure(figsize=(8, 6))\n",
    "\n",
    "# 계단식 그래프 그리기\n",
    "plt.step(fpr, tpr, where='post', label='ROC Curve (Step)')\n",
    "\n",
    "# x, y축 레이블과 제목 추가\n",
    "plt.xlabel('False Positive Rate')\n",
    "plt.ylabel('True Positive Rate')\n",
    "plt.title('ROC Curve (Step)')\n",
    "\n",
    "# AUC 값도 출력\n",
    "plt.legend(loc='lower right')\n",
    "plt.grid(True)\n",
    "plt.show()\n"
   ],
   "id": "5da4e1fe0ec3a1a4",
   "outputs": [
    {
     "name": "stdout",
     "output_type": "stream",
     "text": [
      ">>>>>>> Calculate Features <<<<<<<\n"
     ]
    },
    {
     "name": "stderr",
     "output_type": "stream",
     "text": [
      " 51%|█████     | 242/473 [00:05<00:02, 95.74it/s]"
     ]
    },
    {
     "name": "stdout",
     "output_type": "stream",
     "text": [
      "C:\\Users\\ADS_Lab\\anaconda3\\envs\\ctoxpred\\lib\\site-packages\\numpy\\core\\fromnumeric.py:86: RuntimeWarning: overflow encountered in reduce\n",
      "  return ufunc.reduce(obj, axis, dtype, out, **passkwargs)\n",
      "C:\\Users\\ADS_Lab\\anaconda3\\envs\\ctoxpred\\lib\\site-packages\\numpy\\core\\fromnumeric.py:86: RuntimeWarning: overflow encountered in reduce\n",
      "  return ufunc.reduce(obj, axis, dtype, out, **passkwargs)\n"
     ]
    },
    {
     "name": "stderr",
     "output_type": "stream",
     "text": [
      " 62%|██████▏   | 292/473 [00:05<00:04, 40.94it/s]"
     ]
    },
    {
     "name": "stdout",
     "output_type": "stream",
     "text": [
      "C:\\Users\\ADS_Lab\\anaconda3\\envs\\ctoxpred\\lib\\site-packages\\numpy\\core\\fromnumeric.py:86: RuntimeWarning: overflow encountered in reduce\n",
      "  return ufunc.reduce(obj, axis, dtype, out, **passkwargs)\n",
      "C:\\Users\\ADS_Lab\\anaconda3\\envs\\ctoxpred\\lib\\site-packages\\numpy\\core\\fromnumeric.py:86: RuntimeWarning: overflow encountered in reduce\n",
      "  return ufunc.reduce(obj, axis, dtype, out, **passkwargs)\n"
     ]
    },
    {
     "name": "stderr",
     "output_type": "stream",
     "text": [
      "100%|██████████| 473/473 [00:08<00:00, 54.72it/s]\n"
     ]
    },
    {
     "name": "stdout",
     "output_type": "stream",
     "text": [
      ">>>>>>> Predict hERG <<<<<<<\n",
      ">>>>>>> Predict Nav1.5 <<<<<<<\n",
      ">>>>>>> Predict Cav1.2 <<<<<<<\n"
     ]
    },
    {
     "data": {
      "text/plain": [
       "<Figure size 800x600 with 1 Axes>"
      ],
      "image/png": "[encoded data removed]"
     },
     "metadata": {},
     "output_type": "display_data"
    }
   ],
   "execution_count": 61
  },
  {
   "metadata": {
    "ExecuteTime": {
     "end_time": "2024-11-18T09:06:15.318788Z",
     "start_time": "2024-11-18T09:06:15.273477Z"
    }
   },
   "cell_type": "code",
   "source": "predictions",
   "id": "70beb43253047348",
   "outputs": [
    {
     "data": {
      "text/plain": [
       "                                                SMILES  hERG  Nav1.5  Cav1.2  \\\n",
       "0               Fc1ccc(-c2cnn(CCc3cn[nH]c3)c2)cc1C(F)F     1       0       1   \n",
       "1    COc1c(NC(=O)Nc2ccc(Oc3ccnc(Nc4ccccc4)c3)c3cccc...     1       1       1   \n",
       "2                         CNCC(Cc1cccs1)c1ccc2ccccc2c1     1       1       0   \n",
       "3    CC(C)n1c(NCC2CNCCO2)nc2c([N+](=O)[O-])c(Br)c(B...     1       1       0   \n",
       "4                      CNCC(Cc1ccccc1OC)c1ccc2ccccc2c1     1       1       1   \n",
       "..                                                 ...   ...     ...     ...   \n",
       "468       Fc1ccc2c(C3C[NH2+]CCC3F)c(C3CCCCCC3)[nH]c2c1     1       1       0   \n",
       "469      Fc1ccc2c(C3C[NH2+]CCC3F)c(C3=CNC=CC3)[nH]c2c1     1       0       1   \n",
       "470       Fc1ccc(-c2[nH]c3cc(F)ccc3c2C2CCC[NH2+]C2)cc1     1       0       1   \n",
       "471  Cn1ccnc1C(=O)N1CCC(c2ccc(C(=O)N=C(N)N)cc2C(F)(...     1       1       1   \n",
       "472  N#Cc1cccc(C(=O)N2CCC(c3ccc(C(=O)N=C(N)N)cc3C(F...     1       1       1   \n",
       "\n",
       "     hERG_y_score  Nav1.5_y_score  Cav1.2_y_score  \n",
       "0        0.731059        0.269581        0.681306  \n",
       "1        0.731059        0.708274        0.731058  \n",
       "2        0.731059        0.730820        0.269459  \n",
       "3        0.731059        0.731058        0.269332  \n",
       "4        0.731059        0.729489        0.662153  \n",
       "..            ...             ...             ...  \n",
       "468      0.731059        0.580364        0.394157  \n",
       "469      0.731059        0.269000        0.687097  \n",
       "470      0.731059        0.285096        0.708879  \n",
       "471      0.731059        0.728552        0.723077  \n",
       "472      0.731059        0.731015        0.731053  \n",
       "\n",
       "[473 rows x 7 columns]"
      ],
      "text/html": [
       "<div>\n",
       "<style scoped>\n",
       "    .dataframe tbody tr th:only-of-type {\n",
       "        vertical-align: middle;\n",
       "    }\n",
       "\n",
       "    .dataframe tbody tr th {\n",
       "        vertical-align: top;\n",
       "    }\n",
       "\n",
       "    .dataframe thead th {\n",
       "        text-align: right;\n",
       "    }\n",
       "</style>\n",
       "<table border=\"1\" class=\"dataframe\">\n",
       "  <thead>\n",
       "    <tr style=\"text-align: right;\">\n",
       "      <th></th>\n",
       "      <th>SMILES</th>\n",
       "      <th>hERG</th>\n",
       "      <th>Nav1.5</th>\n",
       "      <th>Cav1.2</th>\n",
       "      <th>hERG_y_score</th>\n",
       "      <th>Nav1.5_y_score</th>\n",
       "      <th>Cav1.2_y_score</th>\n",
       "    </tr>\n",
       "  </thead>\n",
       "  <tbody>\n",
       "    <tr>\n",
       "      <th>0</th>\n",
       "      <td>Fc1ccc(-c2cnn(CCc3cn[nH]c3)c2)cc1C(F)F</td>\n",
       "      <td>1</td>\n",
       "      <td>0</td>\n",
       "      <td>1</td>\n",
       "      <td>0.731059</td>\n",
       "      <td>0.269581</td>\n",
       "      <td>0.681306</td>\n",
       "    </tr>\n",
       "    <tr>\n",
       "      <th>1</th>\n",
       "      <td>COc1c(NC(=O)Nc2ccc(Oc3ccnc(Nc4ccccc4)c3)c3cccc...</td>\n",
       "      <td>1</td>\n",
       "      <td>1</td>\n",
       "      <td>1</td>\n",
       "      <td>0.731059</td>\n",
       "      <td>0.708274</td>\n",
       "      <td>0.731058</td>\n",
       "    </tr>\n",
       "    <tr>\n",
       "      <th>2</th>\n",
       "      <td>CNCC(Cc1cccs1)c1ccc2ccccc2c1</td>\n",
       "      <td>1</td>\n",
       "      <td>1</td>\n",
       "      <td>0</td>\n",
       "      <td>0.731059</td>\n",
       "      <td>0.730820</td>\n",
       "      <td>0.269459</td>\n",
       "    </tr>\n",
       "    <tr>\n",
       "      <th>3</th>\n",
       "      <td>CC(C)n1c(NCC2CNCCO2)nc2c([N+](=O)[O-])c(Br)c(B...</td>\n",
       "      <td>1</td>\n",
       "      <td>1</td>\n",
       "      <td>0</td>\n",
       "      <td>0.731059</td>\n",
       "      <td>0.731058</td>\n",
       "      <td>0.269332</td>\n",
       "    </tr>\n",
       "    <tr>\n",
       "      <th>4</th>\n",
       "      <td>CNCC(Cc1ccccc1OC)c1ccc2ccccc2c1</td>\n",
       "      <td>1</td>\n",
       "      <td>1</td>\n",
       "      <td>1</td>\n",
       "      <td>0.731059</td>\n",
       "      <td>0.729489</td>\n",
       "      <td>0.662153</td>\n",
       "    </tr>\n",
       "    <tr>\n",
       "      <th>...</th>\n",
       "      <td>...</td>\n",
       "      <td>...</td>\n",
       "      <td>...</td>\n",
       "      <td>...</td>\n",
       "      <td>...</td>\n",
       "      <td>...</td>\n",
       "      <td>...</td>\n",
       "    </tr>\n",
       "    <tr>\n",
       "      <th>468</th>\n",
       "      <td>Fc1ccc2c(C3C[NH2+]CCC3F)c(C3CCCCCC3)[nH]c2c1</td>\n",
       "      <td>1</td>\n",
       "      <td>1</td>\n",
       "      <td>0</td>\n",
       "      <td>0.731059</td>\n",
       "      <td>0.580364</td>\n",
       "      <td>0.394157</td>\n",
       "    </tr>\n",
       "    <tr>\n",
       "      <th>469</th>\n",
       "      <td>Fc1ccc2c(C3C[NH2+]CCC3F)c(C3=CNC=CC3)[nH]c2c1</td>\n",
       "      <td>1</td>\n",
       "      <td>0</td>\n",
       "      <td>1</td>\n",
       "      <td>0.731059</td>\n",
       "      <td>0.269000</td>\n",
       "      <td>0.687097</td>\n",
       "    </tr>\n",
       "    <tr>\n",
       "      <th>470</th>\n",
       "      <td>Fc1ccc(-c2[nH]c3cc(F)ccc3c2C2CCC[NH2+]C2)cc1</td>\n",
       "      <td>1</td>\n",
       "      <td>0</td>\n",
       "      <td>1</td>\n",
       "      <td>0.731059</td>\n",
       "      <td>0.285096</td>\n",
       "      <td>0.708879</td>\n",
       "    </tr>\n",
       "    <tr>\n",
       "      <th>471</th>\n",
       "      <td>Cn1ccnc1C(=O)N1CCC(c2ccc(C(=O)N=C(N)N)cc2C(F)(...</td>\n",
       "      <td>1</td>\n",
       "      <td>1</td>\n",
       "      <td>1</td>\n",
       "      <td>0.731059</td>\n",
       "      <td>0.728552</td>\n",
       "      <td>0.723077</td>\n",
       "    </tr>\n",
       "    <tr>\n",
       "      <th>472</th>\n",
       "      <td>N#Cc1cccc(C(=O)N2CCC(c3ccc(C(=O)N=C(N)N)cc3C(F...</td>\n",
       "      <td>1</td>\n",
       "      <td>1</td>\n",
       "      <td>1</td>\n",
       "      <td>0.731059</td>\n",
       "      <td>0.731015</td>\n",
       "      <td>0.731053</td>\n",
       "    </tr>\n",
       "  </tbody>\n",
       "</table>\n",
       "<p>473 rows × 7 columns</p>\n",
       "</div>"
      ]
     },
     "execution_count": 79,
     "metadata": {},
     "output_type": "execute_result"
    }
   ],
   "execution_count": 79
  },
  {
   "cell_type": "code",
   "id": "8db23d37",
   "metadata": {
    "ExecuteTime": {
     "end_time": "2024-11-18T09:06:21.209297Z",
     "start_time": "2024-11-18T09:06:21.077865Z"
    }
   },
   "source": "draw_confusion_matrix(eval_herg_set_70['Label'],predictions['hERG'])",
   "outputs": [
    {
     "data": {
      "text/plain": [
       "<Figure size 700x437.5 with 2 Axes>"
      ],
      "image/png": "[encoded data removed]"
     },
     "metadata": {},
     "output_type": "display_data"
    }
   ],
   "execution_count": 80
  },
  {
   "cell_type": "code",
   "id": "7bf01cd7",
   "metadata": {
    "ExecuteTime": {
     "end_time": "2024-11-18T09:06:32.663897Z",
     "start_time": "2024-11-18T09:06:32.617005Z"
    }
   },
   "source": [
    "compute_metrics(eval_herg_set_60['Label'],predictions['hERG'])"
   ],
   "outputs": [
    {
     "name": "stdout",
     "output_type": "stream",
     "text": [
      "Binary classification performace metrics:\n"
     ]
    },
    {
     "ename": "ValueError",
     "evalue": "Found input variables with inconsistent numbers of samples: [250, 473]",
     "output_type": "error",
     "traceback": [
      "\u001B[1;31m---------------------------------------------------------------------------\u001B[0m",
      "\u001B[1;31mValueError\u001B[0m                                Traceback (most recent call last)",
      "\u001B[1;32m~\\AppData\\Local\\Temp\\ipykernel_2556\\1971049415.py\u001B[0m in \u001B[0;36m<module>\u001B[1;34m\u001B[0m\n\u001B[1;32m----> 1\u001B[1;33m \u001B[0mcompute_metrics\u001B[0m\u001B[1;33m(\u001B[0m\u001B[0meval_herg_set_60\u001B[0m\u001B[1;33m[\u001B[0m\u001B[1;34m'Label'\u001B[0m\u001B[1;33m]\u001B[0m\u001B[1;33m,\u001B[0m\u001B[0mpredictions\u001B[0m\u001B[1;33m[\u001B[0m\u001B[1;34m'hERG'\u001B[0m\u001B[1;33m]\u001B[0m\u001B[1;33m)\u001B[0m\u001B[1;33m\u001B[0m\u001B[1;33m\u001B[0m\u001B[0m\n\u001B[0m",
      "\u001B[1;32m~\\Desktop\\JH\\Paper_Replication\\CToxPred\\CToxPred\\utils.py\u001B[0m in \u001B[0;36mcompute_metrics\u001B[1;34m(ground_truth, predicted)\u001B[0m\n\u001B[0;32m    278\u001B[0m     \"\"\"\n\u001B[0;32m    279\u001B[0m     \u001B[0mprint\u001B[0m\u001B[1;33m(\u001B[0m\u001B[1;34m'Binary classification performace metrics:'\u001B[0m\u001B[1;33m)\u001B[0m\u001B[1;33m\u001B[0m\u001B[1;33m\u001B[0m\u001B[0m\n\u001B[1;32m--> 280\u001B[1;33m     \u001B[0mprint\u001B[0m\u001B[1;33m(\u001B[0m\u001B[0mconfusion_matrix\u001B[0m\u001B[1;33m(\u001B[0m\u001B[0mground_truth\u001B[0m\u001B[1;33m,\u001B[0m \u001B[0mpredicted\u001B[0m\u001B[1;33m)\u001B[0m\u001B[1;33m)\u001B[0m\u001B[1;33m\u001B[0m\u001B[1;33m\u001B[0m\u001B[0m\n\u001B[0m\u001B[0;32m    281\u001B[0m     \u001B[0mtn\u001B[0m\u001B[1;33m,\u001B[0m \u001B[0mfp\u001B[0m\u001B[1;33m,\u001B[0m \u001B[0mfn\u001B[0m\u001B[1;33m,\u001B[0m \u001B[0mtp\u001B[0m \u001B[1;33m=\u001B[0m \u001B[0mconfusion_matrix\u001B[0m\u001B[1;33m(\u001B[0m\u001B[0mground_truth\u001B[0m\u001B[1;33m,\u001B[0m \u001B[0mpredicted\u001B[0m\u001B[1;33m)\u001B[0m\u001B[1;33m.\u001B[0m\u001B[0mravel\u001B[0m\u001B[1;33m(\u001B[0m\u001B[1;33m)\u001B[0m\u001B[1;33m\u001B[0m\u001B[1;33m\u001B[0m\u001B[0m\n\u001B[0;32m    282\u001B[0m     \u001B[0mprint\u001B[0m\u001B[1;33m(\u001B[0m\u001B[1;34m\"TP, FN, TN, FP\"\u001B[0m\u001B[1;33m)\u001B[0m\u001B[1;33m\u001B[0m\u001B[1;33m\u001B[0m\u001B[0m\n",
      "\u001B[1;32m~\\anaconda3\\envs\\ctoxpred\\lib\\site-packages\\sklearn\\metrics\\_classification.py\u001B[0m in \u001B[0;36mconfusion_matrix\u001B[1;34m(y_true, y_pred, labels, sample_weight, normalize)\u001B[0m\n\u001B[0;32m    305\u001B[0m     \u001B[1;33m(\u001B[0m\u001B[1;36m0\u001B[0m\u001B[1;33m,\u001B[0m \u001B[1;36m2\u001B[0m\u001B[1;33m,\u001B[0m \u001B[1;36m1\u001B[0m\u001B[1;33m,\u001B[0m \u001B[1;36m1\u001B[0m\u001B[1;33m)\u001B[0m\u001B[1;33m\u001B[0m\u001B[1;33m\u001B[0m\u001B[0m\n\u001B[0;32m    306\u001B[0m     \"\"\"\n\u001B[1;32m--> 307\u001B[1;33m     \u001B[0my_type\u001B[0m\u001B[1;33m,\u001B[0m \u001B[0my_true\u001B[0m\u001B[1;33m,\u001B[0m \u001B[0my_pred\u001B[0m \u001B[1;33m=\u001B[0m \u001B[0m_check_targets\u001B[0m\u001B[1;33m(\u001B[0m\u001B[0my_true\u001B[0m\u001B[1;33m,\u001B[0m \u001B[0my_pred\u001B[0m\u001B[1;33m)\u001B[0m\u001B[1;33m\u001B[0m\u001B[1;33m\u001B[0m\u001B[0m\n\u001B[0m\u001B[0;32m    308\u001B[0m     \u001B[1;32mif\u001B[0m \u001B[0my_type\u001B[0m \u001B[1;32mnot\u001B[0m \u001B[1;32min\u001B[0m \u001B[1;33m(\u001B[0m\u001B[1;34m\"binary\"\u001B[0m\u001B[1;33m,\u001B[0m \u001B[1;34m\"multiclass\"\u001B[0m\u001B[1;33m)\u001B[0m\u001B[1;33m:\u001B[0m\u001B[1;33m\u001B[0m\u001B[1;33m\u001B[0m\u001B[0m\n\u001B[0;32m    309\u001B[0m         \u001B[1;32mraise\u001B[0m \u001B[0mValueError\u001B[0m\u001B[1;33m(\u001B[0m\u001B[1;34m\"%s is not supported\"\u001B[0m \u001B[1;33m%\u001B[0m \u001B[0my_type\u001B[0m\u001B[1;33m)\u001B[0m\u001B[1;33m\u001B[0m\u001B[1;33m\u001B[0m\u001B[0m\n",
      "\u001B[1;32m~\\anaconda3\\envs\\ctoxpred\\lib\\site-packages\\sklearn\\metrics\\_classification.py\u001B[0m in \u001B[0;36m_check_targets\u001B[1;34m(y_true, y_pred)\u001B[0m\n\u001B[0;32m     82\u001B[0m     \u001B[0my_pred\u001B[0m \u001B[1;33m:\u001B[0m \u001B[0marray\u001B[0m \u001B[1;32mor\u001B[0m \u001B[0mindicator\u001B[0m \u001B[0mmatrix\u001B[0m\u001B[1;33m\u001B[0m\u001B[1;33m\u001B[0m\u001B[0m\n\u001B[0;32m     83\u001B[0m     \"\"\"\n\u001B[1;32m---> 84\u001B[1;33m     \u001B[0mcheck_consistent_length\u001B[0m\u001B[1;33m(\u001B[0m\u001B[0my_true\u001B[0m\u001B[1;33m,\u001B[0m \u001B[0my_pred\u001B[0m\u001B[1;33m)\u001B[0m\u001B[1;33m\u001B[0m\u001B[1;33m\u001B[0m\u001B[0m\n\u001B[0m\u001B[0;32m     85\u001B[0m     \u001B[0mtype_true\u001B[0m \u001B[1;33m=\u001B[0m \u001B[0mtype_of_target\u001B[0m\u001B[1;33m(\u001B[0m\u001B[0my_true\u001B[0m\u001B[1;33m)\u001B[0m\u001B[1;33m\u001B[0m\u001B[1;33m\u001B[0m\u001B[0m\n\u001B[0;32m     86\u001B[0m     \u001B[0mtype_pred\u001B[0m \u001B[1;33m=\u001B[0m \u001B[0mtype_of_target\u001B[0m\u001B[1;33m(\u001B[0m\u001B[0my_pred\u001B[0m\u001B[1;33m)\u001B[0m\u001B[1;33m\u001B[0m\u001B[1;33m\u001B[0m\u001B[0m\n",
      "\u001B[1;32m~\\anaconda3\\envs\\ctoxpred\\lib\\site-packages\\sklearn\\utils\\validation.py\u001B[0m in \u001B[0;36mcheck_consistent_length\u001B[1;34m(*arrays)\u001B[0m\n\u001B[0;32m    332\u001B[0m         raise ValueError(\n\u001B[0;32m    333\u001B[0m             \u001B[1;34m\"Found input variables with inconsistent numbers of samples: %r\"\u001B[0m\u001B[1;33m\u001B[0m\u001B[1;33m\u001B[0m\u001B[0m\n\u001B[1;32m--> 334\u001B[1;33m             \u001B[1;33m%\u001B[0m \u001B[1;33m[\u001B[0m\u001B[0mint\u001B[0m\u001B[1;33m(\u001B[0m\u001B[0ml\u001B[0m\u001B[1;33m)\u001B[0m \u001B[1;32mfor\u001B[0m \u001B[0ml\u001B[0m \u001B[1;32min\u001B[0m \u001B[0mlengths\u001B[0m\u001B[1;33m]\u001B[0m\u001B[1;33m\u001B[0m\u001B[1;33m\u001B[0m\u001B[0m\n\u001B[0m\u001B[0;32m    335\u001B[0m         )\n\u001B[0;32m    336\u001B[0m \u001B[1;33m\u001B[0m\u001B[0m\n",
      "\u001B[1;31mValueError\u001B[0m: Found input variables with inconsistent numbers of samples: [250, 473]"
     ]
    }
   ],
   "execution_count": 81
  },
  {
   "cell_type": "code",
   "execution_count": null,
   "id": "d5717578",
   "metadata": {},
   "outputs": [],
   "source": []
  }
 ],
 "metadata": {
  "kernelspec": {
   "display_name": "Python 3 (ipykernel)",
   "language": "python",
   "name": "python3"
  },
  "language_info": {
   "codemirror_mode": {
    "name": "ipython",
    "version": 3
   },
   "file_extension": ".py",
   "mimetype": "text/x-python",
   "name": "python",
   "nbconvert_exporter": "python",
   "pygments_lexer": "ipython3",
   "version": "3.7.12"
  }
 },
 "nbformat": 4,
 "nbformat_minor": 5
}
