{
 "cells": [
  {
   "cell_type": "code",
   "id": "initial_id",
   "metadata": {
    "collapsed": true,
    "ExecuteTime": {
     "end_time": "2024-11-18T11:54:41.587745Z",
     "start_time": "2024-11-18T11:54:41.562541Z"
    }
   },
   "source": [
    "import os\n",
    "import sys\n",
    "\n",
    "path = ['..', 'CToxPred']\n",
    "src_dir = os.path.abspath(os.path.join(*path))\n",
    "if src_dir not in sys.path:\n",
    "    sys.path.append(src_dir)"
   ],
   "outputs": [],
   "execution_count": 1
  },
  {
   "metadata": {
    "ExecuteTime": {
     "end_time": "2024-11-18T11:54:43.149943Z",
     "start_time": "2024-11-18T11:54:43.120771Z"
    }
   },
   "cell_type": "code",
   "source": [
    "import os\n",
    "print(os.getcwd())"
   ],
   "id": "6fcb6ed97542c2dd",
   "outputs": [
    {
     "name": "stdout",
     "output_type": "stream",
     "text": [
      "C:\\Users\\ADS_Lab\\Desktop\\JH\\Paper_Replication\\CToxPred\\notebooks\n"
     ]
    }
   ],
   "execution_count": 2
  },
  {
   "metadata": {
    "ExecuteTime": {
     "end_time": "2024-11-18T11:55:11.655340Z",
     "start_time": "2024-11-18T11:55:11.639717Z"
    }
   },
   "cell_type": "code",
   "source": [
    "import joblib\n",
    "from typing import List\n",
    "\n",
    "import matplotlib.pyplot as plt\n",
    "import numpy as np\n",
    "import pandas as pd\n",
    "from sklearn.metrics import confusion_matrix\n",
    "import seaborn as sns\n",
    "import torch\n",
    "\n",
    "from CToxPred.utils import compute_fingerprint_features, compute_descriptor_features, compute_metrics\n",
    "from CToxPred.hERG_model import hERGClassifier\n",
    "from CToxPred.nav15_model import Nav15Classifier\n",
    "from CToxPred.cav12_model import Cav12Classifier"
   ],
   "id": "bc7ffc8e60ff60bf",
   "outputs": [],
   "execution_count": 4
  },
  {
   "metadata": {
    "ExecuteTime": {
     "end_time": "2024-11-18T11:55:18.041553Z",
     "start_time": "2024-11-18T11:55:18.022548Z"
    }
   },
   "cell_type": "code",
   "source": [
    "## hERG\n",
    "eval_herg_set_60 = pd.read_csv(\"../data/raw/hERG/eval_set_herg_60.csv\")\n",
    "eval_herg_set_70 = pd.read_csv(\"../data/raw/hERG/eval_set_herg_70.csv\")\n",
    "## Nav1.5\n",
    "eval_nav_set_60 = pd.read_csv(\"../data/raw/Nav1.5/eval_set_nav_60.csv\")\n",
    "eval_nav_set_70 = pd.read_csv(\"../data/raw/Nav1.5/eval_set_nav_70.csv\")\n",
    "## Cav1.2\n",
    "eval_cav_set_60 = pd.read_csv(\"../data/raw/Cav1.2/eval_set_cav_60.csv\")\n",
    "eval_cav_set_70 = pd.read_csv(\"../data/raw/Cav1.2/eval_set_cav_70.csv\")"
   ],
   "id": "4af5648cc150a743",
   "outputs": [],
   "execution_count": 5
  },
  {
   "metadata": {
    "ExecuteTime": {
     "end_time": "2024-11-18T11:55:21.791102Z",
     "start_time": "2024-11-18T11:55:21.775480Z"
    }
   },
   "cell_type": "code",
   "source": "eval_cav_set_70",
   "id": "af0e80609d7e7c74",
   "outputs": [
    {
     "data": {
      "text/plain": [
       "                      InChl Key  \\\n",
       "0   UYZIPLMTFSGKAJ-OAHLLOKOSA-N   \n",
       "1   YVLZVIUUVUBKNC-QGZVFWFLSA-N   \n",
       "2   FLNYLINBEZROPL-NSOVKSMOSA-N   \n",
       "3   KTQASNDGWLUTPN-UHFFFAOYSA-N   \n",
       "4   PAJSQNJPMJTKTN-UHFFFAOYSA-N   \n",
       "..                          ...   \n",
       "76  FTUDAMYKRYOOIG-UHFFFAOYSA-N   \n",
       "77  ZUSRJOLABHKRGS-UHFFFAOYSA-N   \n",
       "78  ODICPULKHOZXSO-UHFFFAOYSA-N   \n",
       "79  AARJIBDJVXSJTN-UHFFFAOYSA-N   \n",
       "80  CVMLRZLTFZHPGP-DTQAZKPQSA-N   \n",
       "\n",
       "                                               SMILES  Source      ChEMBL ID  \\\n",
       "0     N[C@H](COCc1cc(C(F)(F)F)cc(C(F)(F)F)c1)c1ccccc1  ChEMBL    CHEMBL92818   \n",
       "1   CN(CC(N)=O)[C@H](COCc1cc(C(F)(F)F)cc(C(F)(F)F)...  ChEMBL   CHEMBL327765   \n",
       "2   COc1ccccc1CN[C@H]1C2CCN(CC2)[C@H]1C(c1ccccc1)c...  ChEMBL    CHEMBL16192   \n",
       "3          Cc1ccc(CN2CCC(n3c(O)nc4ccccc43)CC2)c(Cl)c1  ChEMBL   CHEMBL114484   \n",
       "4     Cc1ccc2nc(O)n(C3CCN(Cc4cc5c(cc4Cl)OCO5)CC3)c2c1  ChEMBL   CHEMBL420863   \n",
       "..                                                ...     ...            ...   \n",
       "76         COC(=O)C1=CNC=C(C(=O)OC)C1c1ccc(Cl)c(Cl)c1  ChEMBL   CHEMBL602780   \n",
       "77   CCOC(=O)C1=C(C)NC(C)=C(C(=O)OCC)C1c1ccc(OC)cc1OC  ChEMBL  CHEMBL2063635   \n",
       "78    COC(=O)C1=C(C)N(C)C(C)=C(C(=O)OC)C1c1cccc(Cl)c1  ChEMBL  CHEMBL2063807   \n",
       "79        CCOC(=O)C1=C(C)NC(C)=C(C(=O)OC)C1c1ccc(C)o1  ChEMBL  CHEMBL2063639   \n",
       "80     COC(=O)C1=C(C)N=C(C)/C(=C(/O)OC)C1c1cccc(Cl)c1  ChEMBL    CHEMBL38597   \n",
       "\n",
       "    PubChem CID    pIC50  \n",
       "0           NaN  6.23657  \n",
       "1           NaN  5.00000  \n",
       "2           NaN  6.61979  \n",
       "3           NaN  5.87290  \n",
       "4           NaN  5.76700  \n",
       "..          ...      ...  \n",
       "76          NaN  6.00000  \n",
       "77          NaN  6.00000  \n",
       "78          NaN  6.00000  \n",
       "79          NaN  6.00000  \n",
       "80          NaN  6.00000  \n",
       "\n",
       "[81 rows x 6 columns]"
      ],
      "text/html": [
       "<div>\n",
       "<style scoped>\n",
       "    .dataframe tbody tr th:only-of-type {\n",
       "        vertical-align: middle;\n",
       "    }\n",
       "\n",
       "    .dataframe tbody tr th {\n",
       "        vertical-align: top;\n",
       "    }\n",
       "\n",
       "    .dataframe thead th {\n",
       "        text-align: right;\n",
       "    }\n",
       "</style>\n",
       "<table border=\"1\" class=\"dataframe\">\n",
       "  <thead>\n",
       "    <tr style=\"text-align: right;\">\n",
       "      <th></th>\n",
       "      <th>InChl Key</th>\n",
       "      <th>SMILES</th>\n",
       "      <th>Source</th>\n",
       "      <th>ChEMBL ID</th>\n",
       "      <th>PubChem CID</th>\n",
       "      <th>pIC50</th>\n",
       "    </tr>\n",
       "  </thead>\n",
       "  <tbody>\n",
       "    <tr>\n",
       "      <th>0</th>\n",
       "      <td>UYZIPLMTFSGKAJ-OAHLLOKOSA-N</td>\n",
       "      <td>N[C@H](COCc1cc(C(F)(F)F)cc(C(F)(F)F)c1)c1ccccc1</td>\n",
       "      <td>ChEMBL</td>\n",
       "      <td>CHEMBL92818</td>\n",
       "      <td>NaN</td>\n",
       "      <td>6.23657</td>\n",
       "    </tr>\n",
       "    <tr>\n",
       "      <th>1</th>\n",
       "      <td>YVLZVIUUVUBKNC-QGZVFWFLSA-N</td>\n",
       "      <td>CN(CC(N)=O)[C@H](COCc1cc(C(F)(F)F)cc(C(F)(F)F)...</td>\n",
       "      <td>ChEMBL</td>\n",
       "      <td>CHEMBL327765</td>\n",
       "      <td>NaN</td>\n",
       "      <td>5.00000</td>\n",
       "    </tr>\n",
       "    <tr>\n",
       "      <th>2</th>\n",
       "      <td>FLNYLINBEZROPL-NSOVKSMOSA-N</td>\n",
       "      <td>COc1ccccc1CN[C@H]1C2CCN(CC2)[C@H]1C(c1ccccc1)c...</td>\n",
       "      <td>ChEMBL</td>\n",
       "      <td>CHEMBL16192</td>\n",
       "      <td>NaN</td>\n",
       "      <td>6.61979</td>\n",
       "    </tr>\n",
       "    <tr>\n",
       "      <th>3</th>\n",
       "      <td>KTQASNDGWLUTPN-UHFFFAOYSA-N</td>\n",
       "      <td>Cc1ccc(CN2CCC(n3c(O)nc4ccccc43)CC2)c(Cl)c1</td>\n",
       "      <td>ChEMBL</td>\n",
       "      <td>CHEMBL114484</td>\n",
       "      <td>NaN</td>\n",
       "      <td>5.87290</td>\n",
       "    </tr>\n",
       "    <tr>\n",
       "      <th>4</th>\n",
       "      <td>PAJSQNJPMJTKTN-UHFFFAOYSA-N</td>\n",
       "      <td>Cc1ccc2nc(O)n(C3CCN(Cc4cc5c(cc4Cl)OCO5)CC3)c2c1</td>\n",
       "      <td>ChEMBL</td>\n",
       "      <td>CHEMBL420863</td>\n",
       "      <td>NaN</td>\n",
       "      <td>5.76700</td>\n",
       "    </tr>\n",
       "    <tr>\n",
       "      <th>...</th>\n",
       "      <td>...</td>\n",
       "      <td>...</td>\n",
       "      <td>...</td>\n",
       "      <td>...</td>\n",
       "      <td>...</td>\n",
       "      <td>...</td>\n",
       "    </tr>\n",
       "    <tr>\n",
       "      <th>76</th>\n",
       "      <td>FTUDAMYKRYOOIG-UHFFFAOYSA-N</td>\n",
       "      <td>COC(=O)C1=CNC=C(C(=O)OC)C1c1ccc(Cl)c(Cl)c1</td>\n",
       "      <td>ChEMBL</td>\n",
       "      <td>CHEMBL602780</td>\n",
       "      <td>NaN</td>\n",
       "      <td>6.00000</td>\n",
       "    </tr>\n",
       "    <tr>\n",
       "      <th>77</th>\n",
       "      <td>ZUSRJOLABHKRGS-UHFFFAOYSA-N</td>\n",
       "      <td>CCOC(=O)C1=C(C)NC(C)=C(C(=O)OCC)C1c1ccc(OC)cc1OC</td>\n",
       "      <td>ChEMBL</td>\n",
       "      <td>CHEMBL2063635</td>\n",
       "      <td>NaN</td>\n",
       "      <td>6.00000</td>\n",
       "    </tr>\n",
       "    <tr>\n",
       "      <th>78</th>\n",
       "      <td>ODICPULKHOZXSO-UHFFFAOYSA-N</td>\n",
       "      <td>COC(=O)C1=C(C)N(C)C(C)=C(C(=O)OC)C1c1cccc(Cl)c1</td>\n",
       "      <td>ChEMBL</td>\n",
       "      <td>CHEMBL2063807</td>\n",
       "      <td>NaN</td>\n",
       "      <td>6.00000</td>\n",
       "    </tr>\n",
       "    <tr>\n",
       "      <th>79</th>\n",
       "      <td>AARJIBDJVXSJTN-UHFFFAOYSA-N</td>\n",
       "      <td>CCOC(=O)C1=C(C)NC(C)=C(C(=O)OC)C1c1ccc(C)o1</td>\n",
       "      <td>ChEMBL</td>\n",
       "      <td>CHEMBL2063639</td>\n",
       "      <td>NaN</td>\n",
       "      <td>6.00000</td>\n",
       "    </tr>\n",
       "    <tr>\n",
       "      <th>80</th>\n",
       "      <td>CVMLRZLTFZHPGP-DTQAZKPQSA-N</td>\n",
       "      <td>COC(=O)C1=C(C)N=C(C)/C(=C(/O)OC)C1c1cccc(Cl)c1</td>\n",
       "      <td>ChEMBL</td>\n",
       "      <td>CHEMBL38597</td>\n",
       "      <td>NaN</td>\n",
       "      <td>6.00000</td>\n",
       "    </tr>\n",
       "  </tbody>\n",
       "</table>\n",
       "<p>81 rows × 6 columns</p>\n",
       "</div>"
      ]
     },
     "execution_count": 6,
     "metadata": {},
     "output_type": "execute_result"
    }
   ],
   "execution_count": 6
  },
  {
   "metadata": {},
   "cell_type": "code",
   "outputs": [],
   "execution_count": null,
   "source": "",
   "id": "7543d8d49c5502f4"
  },
  {
   "metadata": {},
   "cell_type": "code",
   "outputs": [],
   "execution_count": null,
   "source": "",
   "id": "5b6456012295db44"
  },
  {
   "metadata": {},
   "cell_type": "code",
   "outputs": [],
   "execution_count": null,
   "source": "",
   "id": "e69e987e6469589c"
  },
  {
   "metadata": {},
   "cell_type": "code",
   "outputs": [],
   "execution_count": null,
   "source": "",
   "id": "815706725ec0e16"
  },
  {
   "metadata": {
    "ExecuteTime": {
     "end_time": "2024-11-18T11:56:18.047881Z",
     "start_time": "2024-11-18T11:56:18.032254Z"
    }
   },
   "cell_type": "code",
   "source": "smiles_list = eval_herg_set_70['SMILES']",
   "id": "9d5f74aa99ba3160",
   "outputs": [],
   "execution_count": 7
  },
  {
   "metadata": {
    "ExecuteTime": {
     "end_time": "2024-11-18T11:56:31.507119Z",
     "start_time": "2024-11-18T11:56:18.976230Z"
    }
   },
   "cell_type": "code",
   "source": [
    "fingerprints = compute_fingerprint_features(smiles_list)\n",
    "descriptors = compute_descriptor_features(smiles_list)"
   ],
   "id": "c92ca01dec8f76ff",
   "outputs": [
    {
     "name": "stderr",
     "output_type": "stream",
     "text": [
      " 51%|█████     | 242/473 [00:05<00:02, 93.36it/s]"
     ]
    },
    {
     "name": "stdout",
     "output_type": "stream",
     "text": [
      "C:\\Users\\ADS_Lab\\anaconda3\\envs\\ctoxpred\\lib\\site-packages\\numpy\\core\\fromnumeric.py:86: RuntimeWarning: overflow encountered in reduce\n",
      "  return ufunc.reduce(obj, axis, dtype, out, **passkwargs)\n",
      "C:\\Users\\ADS_Lab\\anaconda3\\envs\\ctoxpred\\lib\\site-packages\\numpy\\core\\fromnumeric.py:86: RuntimeWarning: overflow encountered in reduce\n",
      "  return ufunc.reduce(obj, axis, dtype, out, **passkwargs)\n"
     ]
    },
    {
     "name": "stderr",
     "output_type": "stream",
     "text": [
      " 63%|██████▎   | 298/473 [00:05<00:02, 86.50it/s]"
     ]
    },
    {
     "name": "stdout",
     "output_type": "stream",
     "text": [
      "C:\\Users\\ADS_Lab\\anaconda3\\envs\\ctoxpred\\lib\\site-packages\\numpy\\core\\fromnumeric.py:86: RuntimeWarning: overflow encountered in reduce\n",
      "  return ufunc.reduce(obj, axis, dtype, out, **passkwargs)\n",
      "C:\\Users\\ADS_Lab\\anaconda3\\envs\\ctoxpred\\lib\\site-packages\\numpy\\core\\fromnumeric.py:86: RuntimeWarning: overflow encountered in reduce\n",
      "  return ufunc.reduce(obj, axis, dtype, out, **passkwargs)\n"
     ]
    },
    {
     "name": "stderr",
     "output_type": "stream",
     "text": [
      "100%|██████████| 473/473 [00:08<00:00, 54.98it/s]\n"
     ]
    }
   ],
   "execution_count": 8
  },
  {
   "metadata": {
    "ExecuteTime": {
     "end_time": "2024-11-18T11:57:01.691164Z",
     "start_time": "2024-11-18T11:57:01.675542Z"
    }
   },
   "cell_type": "code",
   "source": [
    "cav12_fingerprints = fingerprints\n",
    "cav12_descriptors = descriptors"
   ],
   "id": "238d3bbb64703fd8",
   "outputs": [],
   "execution_count": 9
  },
  {
   "metadata": {
    "ExecuteTime": {
     "end_time": "2024-11-18T11:57:31.925778Z",
     "start_time": "2024-11-18T11:57:31.822475Z"
    }
   },
   "cell_type": "code",
   "source": [
    "path = ['..', 'CToxPred', 'models', 'decriptors_preprocessing', 'Cav1.2', 'cav_descriptors_preprocessing_pipeline.sav']\n",
    "\n",
    "descriptors_transformation_pipeline = joblib.load(os.path.join(*path))\n",
    "cav12_descriptors = descriptors_transformation_pipeline.transform(cav12_descriptors)"
   ],
   "id": "ec85d38fe272af56",
   "outputs": [],
   "execution_count": 11
  },
  {
   "metadata": {
    "ExecuteTime": {
     "end_time": "2024-11-18T11:59:49.102643Z",
     "start_time": "2024-11-18T11:59:49.071401Z"
    }
   },
   "cell_type": "code",
   "source": [
    "import pandas as pd\n",
    "\n",
    "# CSV 파일 경로\n",
    "file_path = 'C:\\\\Users\\\\ADS_Lab\\\\Desktop\\\\JH\\\\Paper_Replication\\\\CToxPred\\\\dataset\\\\SkinReaction_train_no_salt.txt'\n",
    "\n",
    "# 파일 로드 시 첫 번째 열을 'SMILES'로 지정\n",
    "df = pd.read_csv(file_path, sep='\\t', header=None, names=['SMILES', 'Label'])\n",
    "\n",
    "# 첫 번째 열 확인\n",
    "print(df.head())\n"
   ],
   "id": "e63139cf3387841a",
   "outputs": [
    {
     "name": "stdout",
     "output_type": "stream",
     "text": [
      "                                              SMILES  Label\n",
      "0               CCCOc1ccc(Br)c(C(=O)c2ccc(OC)cc2O)c1      0\n",
      "1                                         CC=C(C)C=O      0\n",
      "2  O=C1C([PH](c2ccccc2)(c2ccccc2)c2ccccc2)CCN1c1c...      0\n",
      "3                                   C=C(C=CCC(C)C)CC      0\n",
      "4                        CCOCc1cc(OC)c(B(O)O)c(OC)c1      0\n"
     ]
    }
   ],
   "execution_count": 14
  },
  {
   "metadata": {
    "ExecuteTime": {
     "end_time": "2024-11-18T12:00:34.804493Z",
     "start_time": "2024-11-18T12:00:34.775857Z"
    }
   },
   "cell_type": "code",
   "source": "smiles_list = df['SMILES']",
   "id": "8bf68b9c801ca441",
   "outputs": [],
   "execution_count": 15
  },
  {
   "metadata": {
    "ExecuteTime": {
     "end_time": "2024-11-18T12:00:51.230380Z",
     "start_time": "2024-11-18T12:00:44.849313Z"
    }
   },
   "cell_type": "code",
   "source": [
    "fingerprints = compute_fingerprint_features(smiles_list)\n",
    "descriptors = compute_descriptor_features(smiles_list)"
   ],
   "id": "cbc704ee37047432",
   "outputs": [
    {
     "name": "stderr",
     "output_type": "stream",
     "text": [
      "100%|██████████| 283/283 [00:04<00:00, 70.05it/s] \n"
     ]
    }
   ],
   "execution_count": 16
  },
  {
   "metadata": {
    "ExecuteTime": {
     "end_time": "2024-11-18T12:02:24.935765Z",
     "start_time": "2024-11-18T12:02:24.920139Z"
    }
   },
   "cell_type": "code",
   "source": [
    "SkinReaction_fingerprints = fingerprints\n",
    "SkinReaction_descriptors = descriptors"
   ],
   "id": "c7ea158a83b8c85d",
   "outputs": [],
   "execution_count": 17
  },
  {
   "metadata": {
    "ExecuteTime": {
     "end_time": "2024-11-18T12:02:30.813830Z",
     "start_time": "2024-11-18T12:02:30.733104Z"
    }
   },
   "cell_type": "code",
   "source": [
    "path = ['..', 'CToxPred', 'models', 'decriptors_preprocessing', 'Cav1.2', 'cav_descriptors_preprocessing_pipeline.sav']\n",
    "\n",
    "descriptors_transformation_pipeline = joblib.load(os.path.join(*path))\n",
    "SkinReaction_descriptors = descriptors_transformation_pipeline.transform(SkinReaction_descriptors)"
   ],
   "id": "d7ed8ed4ddc35478",
   "outputs": [],
   "execution_count": 18
  },
  {
   "metadata": {
    "ExecuteTime": {
     "end_time": "2024-11-18T12:05:48.470947Z",
     "start_time": "2024-11-18T12:05:48.455326Z"
    }
   },
   "cell_type": "code",
   "source": [
    "# 변환된 데이터를 새 .sav 파일로 저장\n",
    "save_path = os.path.join('C:\\\\Users\\\\ADS_Lab\\\\Desktop\\\\JH\\\\Paper_Replication\\\\CToxPred\\\\notebooks', 'SkinReaction_descriptors.sav')  # 파일 저장 경로 지정\n",
    "joblib.dump(SkinReaction_descriptors, save_path)\n",
    "\n",
    "# 파일이 잘 저장되었는지 확인\n",
    "print(f\"Transformed data saved to: {save_path}\")"
   ],
   "id": "afd71dac4b237fd9",
   "outputs": [
    {
     "name": "stdout",
     "output_type": "stream",
     "text": [
      "Transformed data saved to: C:\\Users\\ADS_Lab\\Desktop\\JH\\Paper_Replication\\CToxPred\\notebooks\\SkinReaction_descriptors.sav\n"
     ]
    }
   ],
   "execution_count": 20
  },
  {
   "metadata": {
    "ExecuteTime": {
     "end_time": "2024-11-18T12:15:42.924671Z",
     "start_time": "2024-11-18T12:15:42.909019Z"
    }
   },
   "cell_type": "code",
   "source": [
    "from CToxPred.hERG_model import hERGClassifier\n",
    "from CToxPred.nav15_model import Nav15Classifier\n",
    "from CToxPred.cav12_model import Cav12Classifier\n",
    "\n",
    "import joblib\n",
    "import numpy as np\n",
    "import torch\n",
    "import torch.nn as nn\n",
    "import torch.optim as optim\n",
    "from torch.utils.data import DataLoader, TensorDataset"
   ],
   "id": "79e9a131b8f48702",
   "outputs": [],
   "execution_count": 22
  },
  {
   "metadata": {
    "ExecuteTime": {
     "end_time": "2024-11-18T12:20:34.557173Z",
     "start_time": "2024-11-18T12:20:16.394470Z"
    }
   },
   "cell_type": "code",
   "source": [
    "# 데이터셋 로드 및 전처리\n",
    "def load_data(file_path):\n",
    "    \n",
    "    df = pd.read_csv(file_path, sep='\\t', header=None, names=['SMILES', 'Label'])\n",
    "    smiles_list = df['SMILES']\n",
    "    \n",
    "    # 예시로 데이터 로드 부분은 새로운 데이터 파일을 읽는 부분입니다.\n",
    "    # 아래는 파일 경로에서 데이터를 읽고, 전처리하여 반환하는 함수입니다.\n",
    "    data = pd.read_csv(file_path)\n",
    "    \n",
    "    # 필요한 전처리 및 feature 추출 (e.g., fingerprints, descriptors 등)\n",
    "    fingerprints = compute_fingerprint_features(smiles_list)\n",
    "    descriptors = compute_descriptor_features(smiles_list)\n",
    "    \n",
    "    return fingerprints, descriptors\n",
    "\n",
    "\n",
    "# 파일 경로 정의\n",
    "train_file_path = r\"C:\\Users\\ADS_Lab\\Desktop\\JH\\Paper_Replication\\CToxPred\\dataset\\hERG_train_no_salt.txt\"\n",
    "test_file_path = r\"C:\\Users\\ADS_Lab\\Desktop\\JH\\Paper_Replication\\CToxPred\\dataset\\hERG_test_no_salt.txt\"\n",
    "\n",
    "# 학습 데이터 로드\n",
    "train_dataset = load_data(train_file_path)\n",
    "train_loader = DataLoader(train_dataset, batch_size=16, shuffle=True)\n",
    "\n",
    "# 테스트 데이터 로드\n",
    "test_dataset = load_data(test_file_path)\n",
    "test_loader = DataLoader(test_dataset, batch_size=16, shuffle=False)\n",
    "\n",
    "# 모델 초기화\n",
    "inputSize = train_dataset[0][0].shape[0]  # Morgan Fingerprint 크기 (2048)\n",
    "outputSize = len(set([y.item() for _, y in train_dataset]))  # 클래스 개수\n",
    "model = hERGClassifier(inputSize=inputSize, outputSize=outputSize)\n",
    "\n",
    "# 손실 함수 및 옵티마이저 정의\n",
    "criterion = torch.nn.CrossEntropyLoss()\n",
    "optimizer = torch.optim.Adam(model.parameters(), lr=0.001)\n",
    "\n",
    "# 모델 저장 및 성능 추적\n",
    "best_auc = 0.0  # AUC 초기화\n",
    "best_epoch = 0  # 가장 성능 좋은 모델의 에폭\n",
    "best_model_path = \"best_hERG_classifier_trained.model\"  # 가장 성능 좋은 모델 파일 경로\n",
    "\n",
    "# AUC 계산 함수\n",
    "def calculate_auc(model, loader):\n",
    "    all_preds = []\n",
    "    all_labels = []\n",
    "    model.eval()\n",
    "    with torch.no_grad():\n",
    "        for x_batch, y_batch in loader:\n",
    "            outputs = model(x_batch)\n",
    "            preds = outputs[:, 1]  # 양성 클래스 확률\n",
    "            all_preds.extend(preds.numpy())\n",
    "            all_labels.extend(y_batch.numpy())\n",
    "\n",
    "    auc = roc_auc_score(all_labels, all_preds)\n",
    "    return auc\n",
    "\n",
    "\n",
    "# 학습\n",
    "# 학습\n",
    "epochs = 200  # 에포크 100으로 설정\n",
    "for epoch in range(epochs):\n",
    "    model.train()\n",
    "    for batch in train_loader:\n",
    "        x_batch, y_batch = batch\n",
    "        outputs = model(x_batch)\n",
    "        loss = criterion(outputs, y_batch)\n",
    "        optimizer.zero_grad()\n",
    "        loss.backward()\n",
    "        optimizer.step()\n",
    "\n",
    "    # 테스트 데이터에 대해 AUC 계산\n",
    "    auc_value = calculate_auc(model, test_loader)\n",
    "    print(f\"Epoch {epoch + 1}/{epochs}, AUC: {auc_value}\")\n",
    "\n",
    "    # 성능이 가장 좋은 모델 저장\n",
    "    if auc_value > best_auc:\n",
    "        best_auc = auc_value\n",
    "        best_epoch = epoch + 1  # 가장 성능 좋은 모델의 에폭\n",
    "        torch.save(model.state_dict(), best_model_path)  # AUC 값이 가장 높은 모델 저장\n",
    "\n",
    "# 가장 성능 좋은 모델의 에폭과 AUC 출력\n",
    "print(f\"Best model achieved at epoch {best_epoch} with AUC: {best_auc}\")\n",
    "print(f\"Best model saved at: {best_model_path}\")"
   ],
   "id": "e5978c4b745df233",
   "outputs": [
    {
     "name": "stderr",
     "output_type": "stream",
     "text": [
      "100%|██████████| 449/449 [00:08<00:00, 49.92it/s]\n",
      "100%|██████████| 130/130 [00:03<00:00, 35.75it/s]\n"
     ]
    },
    {
     "ename": "ValueError",
     "evalue": "too many values to unpack (expected 2)",
     "output_type": "error",
     "traceback": [
      "\u001B[1;31m---------------------------------------------------------------------------\u001B[0m",
      "\u001B[1;31mValueError\u001B[0m                                Traceback (most recent call last)",
      "\u001B[1;32m~\\AppData\\Local\\Temp\\ipykernel_16340\\1226620199.py\u001B[0m in \u001B[0;36m<module>\u001B[1;34m\u001B[0m\n\u001B[0;32m     30\u001B[0m \u001B[1;31m# 모델 초기화\u001B[0m\u001B[1;33m\u001B[0m\u001B[1;33m\u001B[0m\u001B[1;33m\u001B[0m\u001B[0m\n\u001B[0;32m     31\u001B[0m \u001B[0minputSize\u001B[0m \u001B[1;33m=\u001B[0m \u001B[0mtrain_dataset\u001B[0m\u001B[1;33m[\u001B[0m\u001B[1;36m0\u001B[0m\u001B[1;33m]\u001B[0m\u001B[1;33m[\u001B[0m\u001B[1;36m0\u001B[0m\u001B[1;33m]\u001B[0m\u001B[1;33m.\u001B[0m\u001B[0mshape\u001B[0m\u001B[1;33m[\u001B[0m\u001B[1;36m0\u001B[0m\u001B[1;33m]\u001B[0m  \u001B[1;31m# Morgan Fingerprint 크기 (2048)\u001B[0m\u001B[1;33m\u001B[0m\u001B[1;33m\u001B[0m\u001B[0m\n\u001B[1;32m---> 32\u001B[1;33m \u001B[0moutputSize\u001B[0m \u001B[1;33m=\u001B[0m \u001B[0mlen\u001B[0m\u001B[1;33m(\u001B[0m\u001B[0mset\u001B[0m\u001B[1;33m(\u001B[0m\u001B[1;33m[\u001B[0m\u001B[0my\u001B[0m\u001B[1;33m.\u001B[0m\u001B[0mitem\u001B[0m\u001B[1;33m(\u001B[0m\u001B[1;33m)\u001B[0m \u001B[1;32mfor\u001B[0m \u001B[0m_\u001B[0m\u001B[1;33m,\u001B[0m \u001B[0my\u001B[0m \u001B[1;32min\u001B[0m \u001B[0mtrain_dataset\u001B[0m\u001B[1;33m]\u001B[0m\u001B[1;33m)\u001B[0m\u001B[1;33m)\u001B[0m  \u001B[1;31m# 클래스 개수\u001B[0m\u001B[1;33m\u001B[0m\u001B[1;33m\u001B[0m\u001B[0m\n\u001B[0m\u001B[0;32m     33\u001B[0m \u001B[0mmodel\u001B[0m \u001B[1;33m=\u001B[0m \u001B[0mhERGClassifier\u001B[0m\u001B[1;33m(\u001B[0m\u001B[0minputSize\u001B[0m\u001B[1;33m=\u001B[0m\u001B[0minputSize\u001B[0m\u001B[1;33m,\u001B[0m \u001B[0moutputSize\u001B[0m\u001B[1;33m=\u001B[0m\u001B[0moutputSize\u001B[0m\u001B[1;33m)\u001B[0m\u001B[1;33m\u001B[0m\u001B[1;33m\u001B[0m\u001B[0m\n\u001B[0;32m     34\u001B[0m \u001B[1;33m\u001B[0m\u001B[0m\n",
      "\u001B[1;32m~\\AppData\\Local\\Temp\\ipykernel_16340\\1226620199.py\u001B[0m in \u001B[0;36m<listcomp>\u001B[1;34m(.0)\u001B[0m\n\u001B[0;32m     30\u001B[0m \u001B[1;31m# 모델 초기화\u001B[0m\u001B[1;33m\u001B[0m\u001B[1;33m\u001B[0m\u001B[1;33m\u001B[0m\u001B[0m\n\u001B[0;32m     31\u001B[0m \u001B[0minputSize\u001B[0m \u001B[1;33m=\u001B[0m \u001B[0mtrain_dataset\u001B[0m\u001B[1;33m[\u001B[0m\u001B[1;36m0\u001B[0m\u001B[1;33m]\u001B[0m\u001B[1;33m[\u001B[0m\u001B[1;36m0\u001B[0m\u001B[1;33m]\u001B[0m\u001B[1;33m.\u001B[0m\u001B[0mshape\u001B[0m\u001B[1;33m[\u001B[0m\u001B[1;36m0\u001B[0m\u001B[1;33m]\u001B[0m  \u001B[1;31m# Morgan Fingerprint 크기 (2048)\u001B[0m\u001B[1;33m\u001B[0m\u001B[1;33m\u001B[0m\u001B[0m\n\u001B[1;32m---> 32\u001B[1;33m \u001B[0moutputSize\u001B[0m \u001B[1;33m=\u001B[0m \u001B[0mlen\u001B[0m\u001B[1;33m(\u001B[0m\u001B[0mset\u001B[0m\u001B[1;33m(\u001B[0m\u001B[1;33m[\u001B[0m\u001B[0my\u001B[0m\u001B[1;33m.\u001B[0m\u001B[0mitem\u001B[0m\u001B[1;33m(\u001B[0m\u001B[1;33m)\u001B[0m \u001B[1;32mfor\u001B[0m \u001B[0m_\u001B[0m\u001B[1;33m,\u001B[0m \u001B[0my\u001B[0m \u001B[1;32min\u001B[0m \u001B[0mtrain_dataset\u001B[0m\u001B[1;33m]\u001B[0m\u001B[1;33m)\u001B[0m\u001B[1;33m)\u001B[0m  \u001B[1;31m# 클래스 개수\u001B[0m\u001B[1;33m\u001B[0m\u001B[1;33m\u001B[0m\u001B[0m\n\u001B[0m\u001B[0;32m     33\u001B[0m \u001B[0mmodel\u001B[0m \u001B[1;33m=\u001B[0m \u001B[0mhERGClassifier\u001B[0m\u001B[1;33m(\u001B[0m\u001B[0minputSize\u001B[0m\u001B[1;33m=\u001B[0m\u001B[0minputSize\u001B[0m\u001B[1;33m,\u001B[0m \u001B[0moutputSize\u001B[0m\u001B[1;33m=\u001B[0m\u001B[0moutputSize\u001B[0m\u001B[1;33m)\u001B[0m\u001B[1;33m\u001B[0m\u001B[1;33m\u001B[0m\u001B[0m\n\u001B[0;32m     34\u001B[0m \u001B[1;33m\u001B[0m\u001B[0m\n",
      "\u001B[1;31mValueError\u001B[0m: too many values to unpack (expected 2)"
     ]
    }
   ],
   "execution_count": 23
  },
  {
   "metadata": {},
   "cell_type": "markdown",
   "source": "",
   "id": "7f652e96cc8e3f00"
  },
  {
   "metadata": {
    "ExecuteTime": {
     "end_time": "2024-11-18T12:31:05.236683Z",
     "start_time": "2024-11-18T12:31:05.221060Z"
    }
   },
   "cell_type": "code",
   "source": [
    "import torch\n",
    "import torch.nn as nn\n",
    "import torch.optim as optim\n",
    "from sklearn.model_selection import train_test_split\n",
    "from sklearn.preprocessing import StandardScaler\n",
    "import pandas as pd\n",
    "\n",
    "# 1. 데이터 로드 및 전처리\n",
    "file_path = 'C:\\\\Users\\\\ADS_Lab\\\\Desktop\\\\JH\\\\Paper_Replication\\\\CToxPred\\\\dataset\\\\SkinReaction_train_no_salt.txt'\n",
    "\n",
    "# 파일 로드 시 첫 번째 열을 'SMILES'로 지정\n",
    "data = pd.read_csv(file_path, sep='\\t', header=None, names=['SMILES', 'Label'])\n",
    "\n",
    "# 데이터 확인\n",
    "print(data.head())\n"
   ],
   "id": "cf8ddbc880a185cb",
   "outputs": [
    {
     "name": "stdout",
     "output_type": "stream",
     "text": [
      "                                              SMILES  Label\n",
      "0               CCCOc1ccc(Br)c(C(=O)c2ccc(OC)cc2O)c1      0\n",
      "1                                         CC=C(C)C=O      0\n",
      "2  O=C1C([PH](c2ccccc2)(c2ccccc2)c2ccccc2)CCN1c1c...      0\n",
      "3                                   C=C(C=CCC(C)C)CC      0\n",
      "4                        CCOCc1cc(OC)c(B(O)O)c(OC)c1      0\n"
     ]
    }
   ],
   "execution_count": 24
  },
  {
   "metadata": {
    "ExecuteTime": {
     "end_time": "2024-11-18T12:31:12.972428Z",
     "start_time": "2024-11-18T12:31:12.953336Z"
    }
   },
   "cell_type": "code",
   "source": [
    "# 'target_column_name'을 실제 타겟 열 이름으로 교체\n",
    "X = data.drop('SMILES', axis=1)  # 'target_column_name'을 타겟 열 이름으로 변경\n",
    "y = data['Label']  # 타겟 열"
   ],
   "id": "4292f8b3ede10edc",
   "outputs": [],
   "execution_count": 25
  },
  {
   "metadata": {
    "ExecuteTime": {
     "end_time": "2024-11-18T12:31:18.345900Z",
     "start_time": "2024-11-18T12:31:18.314737Z"
    }
   },
   "cell_type": "code",
   "source": [
    "# 데이터 나누기 (훈련 데이터와 테스트 데이터)\n",
    "X_train, X_test, y_train, y_test = train_test_split(X, y, test_size=0.2, random_state=42)\n",
    "\n",
    "# 표준화 (Standardization)\n",
    "scaler = StandardScaler()\n",
    "X_train = scaler.fit_transform(X_train)\n",
    "X_test = scaler.transform(X_test)\n",
    "\n",
    "# PyTorch Tensor로 변환\n",
    "X_train_tensor = torch.tensor(X_train, dtype=torch.float32)\n",
    "X_test_tensor = torch.tensor(X_test, dtype=torch.float32)\n",
    "y_train_tensor = torch.tensor(y_train.values, dtype=torch.long)\n",
    "y_test_tensor = torch.tensor(y_test.values, dtype=torch.long)"
   ],
   "id": "fbcdde0894f3d2bb",
   "outputs": [],
   "execution_count": 26
  },
  {
   "metadata": {
    "ExecuteTime": {
     "end_time": "2024-11-18T12:31:27.311464Z",
     "start_time": "2024-11-18T12:31:27.295816Z"
    }
   },
   "cell_type": "code",
   "source": [
    "# 3. 모델 초기화 및 학습\n",
    "input_size = X_train.shape[1]  # 입력 크기 (특징의 개수)\n",
    "output_size = len(y.unique())  # 출력 크기 (클래스 개수)\n",
    "\n",
    "model = Cav12Classifier(inputSize=input_size, outputSize=output_size)\n"
   ],
   "id": "58f3d193450904e5",
   "outputs": [],
   "execution_count": 27
  },
  {
   "metadata": {
    "ExecuteTime": {
     "end_time": "2024-11-18T12:36:41.267001Z",
     "start_time": "2024-11-18T12:36:40.980256Z"
    }
   },
   "cell_type": "code",
   "source": [
    "from sklearn.metrics import roc_auc_score\n",
    "\n",
    "# 손실 함수 및 최적화 기법 설정\n",
    "criterion = nn.CrossEntropyLoss()\n",
    "optimizer = optim.Adam(model.parameters(), lr=0.001)\n",
    "\n",
    "# 모델 학습\n",
    "num_epochs = 100\n",
    "for epoch in range(num_epochs):\n",
    "    model.train()  # 학습 모드\n",
    "    optimizer.zero_grad()\n",
    "\n",
    "    # 순전파\n",
    "    outputs = model(X_train_tensor)\n",
    "    \n",
    "    # 손실 계산\n",
    "    loss = criterion(outputs, y_train_tensor)\n",
    "    \n",
    "    # 역전파\n",
    "    loss.backward()\n",
    "    optimizer.step()\n",
    "\n",
    "    # 예측 확률 계산\n",
    "    probabilities = torch.softmax(outputs, dim=1).cpu().detach().numpy()\n",
    "\n",
    "    # AUC 계산\n",
    "    auc = roc_auc_score(y_train_tensor.cpu().numpy(), probabilities[:, 1])\n",
    "\n",
    "    print(f'Epoch [{epoch+1}/{num_epochs}], Loss: {loss.item():.4f}, AUC: {auc:.4f}')"
   ],
   "id": "8e995d694326a8d4",
   "outputs": [
    {
     "name": "stdout",
     "output_type": "stream",
     "text": [
      "Epoch [1/100], Loss: 0.3133, AUC: 1.0000\n",
      "Epoch [2/100], Loss: 0.3133, AUC: 1.0000\n",
      "Epoch [3/100], Loss: 0.3133, AUC: 1.0000\n",
      "Epoch [4/100], Loss: 0.3133, AUC: 1.0000\n",
      "Epoch [5/100], Loss: 0.3133, AUC: 1.0000\n",
      "Epoch [6/100], Loss: 0.3133, AUC: 1.0000\n",
      "Epoch [7/100], Loss: 0.3133, AUC: 1.0000\n",
      "Epoch [8/100], Loss: 0.3133, AUC: 1.0000\n",
      "Epoch [9/100], Loss: 0.3133, AUC: 1.0000\n",
      "Epoch [10/100], Loss: 0.3133, AUC: 1.0000\n",
      "Epoch [11/100], Loss: 0.3133, AUC: 1.0000\n",
      "Epoch [12/100], Loss: 0.3133, AUC: 1.0000\n",
      "Epoch [13/100], Loss: 0.3133, AUC: 1.0000\n",
      "Epoch [14/100], Loss: 0.3133, AUC: 1.0000\n",
      "Epoch [15/100], Loss: 0.3133, AUC: 1.0000\n",
      "Epoch [16/100], Loss: 0.3133, AUC: 1.0000\n",
      "Epoch [17/100], Loss: 0.3133, AUC: 1.0000\n",
      "Epoch [18/100], Loss: 0.3133, AUC: 1.0000\n",
      "Epoch [19/100], Loss: 0.3133, AUC: 1.0000\n",
      "Epoch [20/100], Loss: 0.3133, AUC: 1.0000\n",
      "Epoch [21/100], Loss: 0.3133, AUC: 1.0000\n",
      "Epoch [22/100], Loss: 0.3133, AUC: 1.0000\n",
      "Epoch [23/100], Loss: 0.3133, AUC: 1.0000\n",
      "Epoch [24/100], Loss: 0.3133, AUC: 1.0000\n",
      "Epoch [25/100], Loss: 0.3133, AUC: 1.0000\n",
      "Epoch [26/100], Loss: 0.3133, AUC: 1.0000\n",
      "Epoch [27/100], Loss: 0.3133, AUC: 1.0000\n",
      "Epoch [28/100], Loss: 0.3133, AUC: 1.0000\n",
      "Epoch [29/100], Loss: 0.3133, AUC: 1.0000\n",
      "Epoch [30/100], Loss: 0.3133, AUC: 1.0000\n",
      "Epoch [31/100], Loss: 0.3133, AUC: 1.0000\n",
      "Epoch [32/100], Loss: 0.3133, AUC: 1.0000\n",
      "Epoch [33/100], Loss: 0.3133, AUC: 1.0000\n",
      "Epoch [34/100], Loss: 0.3133, AUC: 1.0000\n",
      "Epoch [35/100], Loss: 0.3133, AUC: 1.0000\n",
      "Epoch [36/100], Loss: 0.3133, AUC: 1.0000\n",
      "Epoch [37/100], Loss: 0.3133, AUC: 1.0000\n",
      "Epoch [38/100], Loss: 0.3133, AUC: 1.0000\n",
      "Epoch [39/100], Loss: 0.3133, AUC: 1.0000\n",
      "Epoch [40/100], Loss: 0.3133, AUC: 1.0000\n",
      "Epoch [41/100], Loss: 0.3133, AUC: 1.0000\n",
      "Epoch [42/100], Loss: 0.3133, AUC: 1.0000\n",
      "Epoch [43/100], Loss: 0.3133, AUC: 1.0000\n",
      "Epoch [44/100], Loss: 0.3133, AUC: 1.0000\n",
      "Epoch [45/100], Loss: 0.3133, AUC: 1.0000\n",
      "Epoch [46/100], Loss: 0.3133, AUC: 1.0000\n",
      "Epoch [47/100], Loss: 0.3133, AUC: 1.0000\n",
      "Epoch [48/100], Loss: 0.3133, AUC: 1.0000\n",
      "Epoch [49/100], Loss: 0.3133, AUC: 1.0000\n",
      "Epoch [50/100], Loss: 0.3133, AUC: 1.0000\n",
      "Epoch [51/100], Loss: 0.3133, AUC: 1.0000\n",
      "Epoch [52/100], Loss: 0.3133, AUC: 1.0000\n",
      "Epoch [53/100], Loss: 0.3133, AUC: 1.0000\n",
      "Epoch [54/100], Loss: 0.3133, AUC: 1.0000\n",
      "Epoch [55/100], Loss: 0.3133, AUC: 1.0000\n",
      "Epoch [56/100], Loss: 0.3133, AUC: 1.0000\n",
      "Epoch [57/100], Loss: 0.3133, AUC: 1.0000\n",
      "Epoch [58/100], Loss: 0.3133, AUC: 1.0000\n",
      "Epoch [59/100], Loss: 0.3133, AUC: 1.0000\n",
      "Epoch [60/100], Loss: 0.3133, AUC: 1.0000\n",
      "Epoch [61/100], Loss: 0.3133, AUC: 1.0000\n",
      "Epoch [62/100], Loss: 0.3133, AUC: 1.0000\n",
      "Epoch [63/100], Loss: 0.3133, AUC: 1.0000\n",
      "Epoch [64/100], Loss: 0.3133, AUC: 1.0000\n",
      "Epoch [65/100], Loss: 0.3133, AUC: 1.0000\n",
      "Epoch [66/100], Loss: 0.3133, AUC: 1.0000\n",
      "Epoch [67/100], Loss: 0.3133, AUC: 1.0000\n",
      "Epoch [68/100], Loss: 0.3133, AUC: 1.0000\n",
      "Epoch [69/100], Loss: 0.3133, AUC: 1.0000\n",
      "Epoch [70/100], Loss: 0.3133, AUC: 1.0000\n",
      "Epoch [71/100], Loss: 0.3133, AUC: 1.0000\n",
      "Epoch [72/100], Loss: 0.3133, AUC: 1.0000\n",
      "Epoch [73/100], Loss: 0.3133, AUC: 1.0000\n",
      "Epoch [74/100], Loss: 0.3133, AUC: 1.0000\n",
      "Epoch [75/100], Loss: 0.3133, AUC: 1.0000\n",
      "Epoch [76/100], Loss: 0.3133, AUC: 1.0000\n",
      "Epoch [77/100], Loss: 0.3133, AUC: 1.0000\n",
      "Epoch [78/100], Loss: 0.3133, AUC: 1.0000\n",
      "Epoch [79/100], Loss: 0.3133, AUC: 1.0000\n",
      "Epoch [80/100], Loss: 0.3133, AUC: 1.0000\n",
      "Epoch [81/100], Loss: 0.3133, AUC: 1.0000\n",
      "Epoch [82/100], Loss: 0.3133, AUC: 1.0000\n",
      "Epoch [83/100], Loss: 0.3133, AUC: 1.0000\n",
      "Epoch [84/100], Loss: 0.3133, AUC: 1.0000\n",
      "Epoch [85/100], Loss: 0.3133, AUC: 1.0000\n",
      "Epoch [86/100], Loss: 0.3133, AUC: 1.0000\n",
      "Epoch [87/100], Loss: 0.3133, AUC: 1.0000\n",
      "Epoch [88/100], Loss: 0.3133, AUC: 1.0000\n",
      "Epoch [89/100], Loss: 0.3133, AUC: 1.0000\n",
      "Epoch [90/100], Loss: 0.3133, AUC: 1.0000\n",
      "Epoch [91/100], Loss: 0.3133, AUC: 1.0000\n",
      "Epoch [92/100], Loss: 0.3133, AUC: 1.0000\n",
      "Epoch [93/100], Loss: 0.3133, AUC: 1.0000\n",
      "Epoch [94/100], Loss: 0.3133, AUC: 1.0000\n",
      "Epoch [95/100], Loss: 0.3133, AUC: 1.0000\n",
      "Epoch [96/100], Loss: 0.3133, AUC: 1.0000\n",
      "Epoch [97/100], Loss: 0.3133, AUC: 1.0000\n",
      "Epoch [98/100], Loss: 0.3133, AUC: 1.0000\n",
      "Epoch [99/100], Loss: 0.3133, AUC: 1.0000\n",
      "Epoch [100/100], Loss: 0.3133, AUC: 1.0000\n"
     ]
    }
   ],
   "execution_count": 33
  },
  {
   "metadata": {},
   "cell_type": "code",
   "outputs": [],
   "execution_count": null,
   "source": "",
   "id": "aabe1df16584a9e4"
  }
 ],
 "metadata": {
  "kernelspec": {
   "display_name": "Python 3",
   "language": "python",
   "name": "python3"
  },
  "language_info": {
   "codemirror_mode": {
    "name": "ipython",
    "version": 2
   },
   "file_extension": ".py",
   "mimetype": "text/x-python",
   "name": "python",
   "nbconvert_exporter": "python",
   "pygments_lexer": "ipython2",
   "version": "2.7.6"
  }
 },
 "nbformat": 4,
 "nbformat_minor": 5
}
