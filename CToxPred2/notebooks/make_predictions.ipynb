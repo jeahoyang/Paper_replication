{
 "cells": [
  {
   "cell_type": "code",
   "metadata": {
    "ExecuteTime": {
     "end_time": "2024-11-25T13:16:32.262995Z",
     "start_time": "2024-11-25T13:16:32.245308Z"
    }
   },
   "source": [
    "import warnings\n",
    "\n",
    "from CToxPred2.utils import smiles_to_graph\n",
    "from nutils import process_smiles\n",
    "from CToxPred2.pairwise_correlation import CorrelationThreshold\n",
    "warnings.filterwarnings('ignore')"
   ],
   "outputs": [],
   "execution_count": 9
  },
  {
   "cell_type": "markdown",
   "metadata": {},
   "source": [
    "### Processing FDA-approved drugs as an example"
   ]
  },
  {
   "cell_type": "code",
   "metadata": {
    "ExecuteTime": {
     "end_time": "2024-11-25T13:16:33.269641Z",
     "start_time": "2024-11-25T13:16:33.254158Z"
    }
   },
   "source": [
    "# with open(\"../data/FDA_compounds.smi\", \"r\") as file:\n",
    "with open(\"../data/First10_FDA_compounds.smi\", \"r\") as file:\n",
    "    smiles_list = []\n",
    "    for smiles in file:\n",
    "        smiles_list.append(smiles.strip())"
   ],
   "outputs": [],
   "execution_count": 10
  },
  {
   "metadata": {
    "ExecuteTime": {
     "end_time": "2024-11-25T13:16:33.927895Z",
     "start_time": "2024-11-25T13:16:33.904064Z"
    }
   },
   "cell_type": "code",
   "source": "print(smiles_list)",
   "outputs": [
    {
     "name": "stdout",
     "output_type": "stream",
     "text": [
      "['CN(CC(=O)O)C(=N)N', 'CN(CCCCCCCCCCN(C)C(=O)Oc1cccc([N+](C)(C)C)c1)C(=O)Oc1cccc([N+](C)(C)C)c1', 'CN(CCCl)CCCl', 'CN(CCN1CCC(OC(=O)Nc2ccccc2-c2ccccc2)CC1)C(=O)c1ccc(CN2CCC(C(N)=O)CC2)cc1', 'CN(CCOc1ccc(CC2SC(=O)NC2=O)cc1)c1ccccn1', 'CN(CCOc1ccc(NS(C)(=O)=O)cc1)CCc1ccc(NS(C)(=O)=O)cc1', 'CN(Cc1cnc2nc(N)nc(N)c2n1)c1ccc(C(=O)N[C@@H](CCC(=O)O)C(=O)O)cc1', 'CN(Cc1ccc(C(C)(C)C)cc1)Cc1cccc2ccccc12', 'CN(C/C=C/C#CC(C)(C)C)Cc1cccc2ccccc12', 'CN(C/C=C/c1ccccc1)Cc1cccc2ccccc12']\n"
     ]
    }
   ],
   "execution_count": 11
  },
  {
   "cell_type": "code",
   "metadata": {
    "ExecuteTime": {
     "end_time": "2024-11-25T13:16:38.249365Z",
     "start_time": "2024-11-25T13:16:35.597334Z"
    }
   },
   "source": [
    "predictions = process_smiles(smiles_list)"
   ],
   "outputs": [
    {
     "name": "stderr",
     "output_type": "stream",
     "text": [
      "2024-11-25 22:16:35,737 - CToxPred2 Logger - INFO - Calculate Features!\n",
      "[22:16:35] DEPRECATION WARNING: please use MorganGenerator\n",
      "[22:16:35] DEPRECATION WARNING: please use MorganGenerator\n",
      "[22:16:35] DEPRECATION WARNING: please use MorganGenerator\n",
      "[22:16:35] DEPRECATION WARNING: please use MorganGenerator\n",
      "[22:16:35] DEPRECATION WARNING: please use MorganGenerator\n",
      "[22:16:35] DEPRECATION WARNING: please use MorganGenerator\n",
      "[22:16:35] DEPRECATION WARNING: please use MorganGenerator\n",
      "[22:16:35] DEPRECATION WARNING: please use MorganGenerator\n",
      "[22:16:35] DEPRECATION WARNING: please use MorganGenerator\n",
      "[22:16:35] DEPRECATION WARNING: please use MorganGenerator\n",
      "[22:16:35] DEPRECATION WARNING: please use MorganGenerator\n",
      "[22:16:35] DEPRECATION WARNING: please use MorganGenerator\n",
      "[22:16:35] DEPRECATION WARNING: please use MorganGenerator\n",
      "[22:16:35] DEPRECATION WARNING: please use MorganGenerator\n",
      "[22:16:35] DEPRECATION WARNING: please use MorganGenerator\n",
      "[22:16:35] DEPRECATION WARNING: please use MorganGenerator\n",
      "[22:16:35] DEPRECATION WARNING: please use MorganGenerator\n",
      "[22:16:35] DEPRECATION WARNING: please use MorganGenerator\n",
      "[22:16:35] DEPRECATION WARNING: please use MorganGenerator\n",
      "[22:16:35] DEPRECATION WARNING: please use MorganGenerator\n",
      "100%|██████████| 10/10 [00:00<00:00, 11.39it/s]\n",
      "2024-11-25 22:16:37,648 - CToxPred2 Logger - INFO - Predict hERG toxicity!\n",
      "2024-11-25 22:16:37,971 - CToxPred2 Logger - INFO - Predict Nav1.5 toxicity!\n",
      "2024-11-25 22:16:38,087 - CToxPred2 Logger - INFO - Predict Cav1.2 toxicity!\n"
     ]
    }
   ],
   "execution_count": 12
  },
  {
   "cell_type": "code",
   "metadata": {
    "ExecuteTime": {
     "end_time": "2024-11-25T13:38:55.296100Z",
     "start_time": "2024-11-25T13:38:55.218018Z"
    }
   },
   "source": [
    "predictions = predictions[['InChI',\n",
    "                           'SMILES',  \n",
    "                           'MW', \n",
    "                           'AlogP', \n",
    "                           'HBA',\n",
    "                           'HBD', \n",
    "                           'MPSA', \n",
    "                           'ROTB', \n",
    "                           'AROMS', \n",
    "                           'ALERTS', \n",
    "                           'hERG',\n",
    "                           'hERG_confidence', \n",
    "                           'Nav1.5', \n",
    "                           'Nav1.5_confidence', \n",
    "                           'Cav1.2',\n",
    "                           'Cav1.2_confidence']]\n",
    "\n",
    "predictions"
   ],
   "outputs": [
    {
     "ename": "AttributeError",
     "evalue": "'Index' object has no attribute '_format_flat'",
     "output_type": "error",
     "traceback": [
      "\u001B[1;31m---------------------------------------------------------------------------\u001B[0m",
      "\u001B[1;31mAttributeError\u001B[0m                            Traceback (most recent call last)",
      "File \u001B[1;32m~\\anaconda3\\envs\\ctoxpred2\\lib\\site-packages\\IPython\\core\\formatters.py:344\u001B[0m, in \u001B[0;36mBaseFormatter.__call__\u001B[1;34m(self, obj)\u001B[0m\n\u001B[0;32m    342\u001B[0m     method \u001B[38;5;241m=\u001B[39m get_real_method(obj, \u001B[38;5;28mself\u001B[39m\u001B[38;5;241m.\u001B[39mprint_method)\n\u001B[0;32m    343\u001B[0m     \u001B[38;5;28;01mif\u001B[39;00m method \u001B[38;5;129;01mis\u001B[39;00m \u001B[38;5;129;01mnot\u001B[39;00m \u001B[38;5;28;01mNone\u001B[39;00m:\n\u001B[1;32m--> 344\u001B[0m         \u001B[38;5;28;01mreturn\u001B[39;00m \u001B[43mmethod\u001B[49m\u001B[43m(\u001B[49m\u001B[43m)\u001B[49m\n\u001B[0;32m    345\u001B[0m     \u001B[38;5;28;01mreturn\u001B[39;00m \u001B[38;5;28;01mNone\u001B[39;00m\n\u001B[0;32m    346\u001B[0m \u001B[38;5;28;01melse\u001B[39;00m:\n",
      "File \u001B[1;32m~\\anaconda3\\envs\\ctoxpred2\\lib\\site-packages\\pandas\\core\\frame.py:1136\u001B[0m, in \u001B[0;36m_repr_html_\u001B[1;34m(self)\u001B[0m\n\u001B[0;32m   1134\u001B[0m \u001B[38;5;66;03m# more generally, whatever we allow in NDArrayBackedExtensionBlock\u001B[39;00m\n\u001B[0;32m   1135\u001B[0m arr \u001B[38;5;241m=\u001B[39m cast(\u001B[38;5;124m\"\u001B[39m\u001B[38;5;124mnp.ndarray | DatetimeArray | TimedeltaArray | PeriodArray\u001B[39m\u001B[38;5;124m\"\u001B[39m, arr)\n\u001B[1;32m-> 1136\u001B[0m \u001B[38;5;28;01mreturn\u001B[39;00m arr\u001B[38;5;241m.\u001B[39mT\n",
      "File \u001B[1;32m~\\anaconda3\\envs\\ctoxpred2\\lib\\site-packages\\pandas\\io\\formats\\format.py:1108\u001B[0m, in \u001B[0;36mto_html\u001B[1;34m(self, buf, encoding, classes, notebook, border, table_id, render_links)\u001B[0m\n\u001B[0;32m   1079\u001B[0m \u001B[38;5;28;01mdef\u001B[39;00m \u001B[38;5;21mformat_array\u001B[39m(\n\u001B[0;32m   1080\u001B[0m     values: ArrayLike,\n\u001B[0;32m   1081\u001B[0m     formatter: Callable \u001B[38;5;241m|\u001B[39m \u001B[38;5;28;01mNone\u001B[39;00m,\n\u001B[1;32m   (...)\u001B[0m\n\u001B[0;32m   1090\u001B[0m     fallback_formatter: Callable \u001B[38;5;241m|\u001B[39m \u001B[38;5;28;01mNone\u001B[39;00m \u001B[38;5;241m=\u001B[39m \u001B[38;5;28;01mNone\u001B[39;00m,\n\u001B[0;32m   1091\u001B[0m ) \u001B[38;5;241m-\u001B[39m\u001B[38;5;241m>\u001B[39m \u001B[38;5;28mlist\u001B[39m[\u001B[38;5;28mstr\u001B[39m]:\n\u001B[0;32m   1092\u001B[0m \u001B[38;5;250m    \u001B[39m\u001B[38;5;124;03m\"\"\"\u001B[39;00m\n\u001B[0;32m   1093\u001B[0m \u001B[38;5;124;03m    Format an array for printing.\u001B[39;00m\n\u001B[0;32m   1094\u001B[0m \n\u001B[0;32m   1095\u001B[0m \u001B[38;5;124;03m    Parameters\u001B[39;00m\n\u001B[0;32m   1096\u001B[0m \u001B[38;5;124;03m    ----------\u001B[39;00m\n\u001B[0;32m   1097\u001B[0m \u001B[38;5;124;03m    values : np.ndarray or ExtensionArray\u001B[39;00m\n\u001B[0;32m   1098\u001B[0m \u001B[38;5;124;03m    formatter\u001B[39;00m\n\u001B[0;32m   1099\u001B[0m \u001B[38;5;124;03m    float_format\u001B[39;00m\n\u001B[0;32m   1100\u001B[0m \u001B[38;5;124;03m    na_rep\u001B[39;00m\n\u001B[0;32m   1101\u001B[0m \u001B[38;5;124;03m    digits\u001B[39;00m\n\u001B[0;32m   1102\u001B[0m \u001B[38;5;124;03m    space\u001B[39;00m\n\u001B[0;32m   1103\u001B[0m \u001B[38;5;124;03m    justify\u001B[39;00m\n\u001B[0;32m   1104\u001B[0m \u001B[38;5;124;03m    decimal\u001B[39;00m\n\u001B[0;32m   1105\u001B[0m \u001B[38;5;124;03m    leading_space : bool, optional, default True\u001B[39;00m\n\u001B[0;32m   1106\u001B[0m \u001B[38;5;124;03m        Whether the array should be formatted with a leading space.\u001B[39;00m\n\u001B[0;32m   1107\u001B[0m \u001B[38;5;124;03m        When an array as a column of a Series or DataFrame, we do want\u001B[39;00m\n\u001B[1;32m-> 1108\u001B[0m \u001B[38;5;124;03m        the leading space to pad between columns.\u001B[39;00m\n\u001B[0;32m   1109\u001B[0m \n\u001B[0;32m   1110\u001B[0m \u001B[38;5;124;03m        When formatting an Index subclass\u001B[39;00m\n\u001B[0;32m   1111\u001B[0m \u001B[38;5;124;03m        (e.g. IntervalIndex._get_values_for_csv), we don't want the\u001B[39;00m\n\u001B[0;32m   1112\u001B[0m \u001B[38;5;124;03m        leading space since it should be left-aligned.\u001B[39;00m\n\u001B[0;32m   1113\u001B[0m \u001B[38;5;124;03m    fallback_formatter\u001B[39;00m\n\u001B[0;32m   1114\u001B[0m \n\u001B[0;32m   1115\u001B[0m \u001B[38;5;124;03m    Returns\u001B[39;00m\n\u001B[0;32m   1116\u001B[0m \u001B[38;5;124;03m    -------\u001B[39;00m\n\u001B[0;32m   1117\u001B[0m \u001B[38;5;124;03m    List[str]\u001B[39;00m\n\u001B[0;32m   1118\u001B[0m \u001B[38;5;124;03m    \"\"\"\u001B[39;00m\n\u001B[0;32m   1119\u001B[0m     fmt_klass: \u001B[38;5;28mtype\u001B[39m[_GenericArrayFormatter]\n\u001B[0;32m   1120\u001B[0m     \u001B[38;5;28;01mif\u001B[39;00m lib\u001B[38;5;241m.\u001B[39mis_np_dtype(values\u001B[38;5;241m.\u001B[39mdtype, \u001B[38;5;124m\"\u001B[39m\u001B[38;5;124mM\u001B[39m\u001B[38;5;124m\"\u001B[39m):\n",
      "File \u001B[1;32m~\\anaconda3\\envs\\ctoxpred2\\lib\\site-packages\\pandas\\io\\formats\\html.py:88\u001B[0m, in \u001B[0;36mHTMLFormatter.to_string\u001B[1;34m(self)\u001B[0m\n\u001B[0;32m     87\u001B[0m \u001B[38;5;28;01mdef\u001B[39;00m \u001B[38;5;21mto_string\u001B[39m(\u001B[38;5;28mself\u001B[39m) \u001B[38;5;241m-\u001B[39m\u001B[38;5;241m>\u001B[39m \u001B[38;5;28mstr\u001B[39m:\n\u001B[1;32m---> 88\u001B[0m     lines \u001B[38;5;241m=\u001B[39m \u001B[38;5;28;43mself\u001B[39;49m\u001B[38;5;241;43m.\u001B[39;49m\u001B[43mrender\u001B[49m\u001B[43m(\u001B[49m\u001B[43m)\u001B[49m\n\u001B[0;32m     89\u001B[0m     \u001B[38;5;28;01mif\u001B[39;00m \u001B[38;5;28many\u001B[39m(\u001B[38;5;28misinstance\u001B[39m(x, \u001B[38;5;28mstr\u001B[39m) \u001B[38;5;28;01mfor\u001B[39;00m x \u001B[38;5;129;01min\u001B[39;00m lines):\n\u001B[0;32m     90\u001B[0m         lines \u001B[38;5;241m=\u001B[39m [\u001B[38;5;28mstr\u001B[39m(x) \u001B[38;5;28;01mfor\u001B[39;00m x \u001B[38;5;129;01min\u001B[39;00m lines]\n",
      "File \u001B[1;32m~\\anaconda3\\envs\\ctoxpred2\\lib\\site-packages\\pandas\\io\\formats\\html.py:644\u001B[0m, in \u001B[0;36mNotebookFormatter.render\u001B[1;34m(self)\u001B[0m\n\u001B[0;32m    642\u001B[0m \u001B[38;5;28mself\u001B[39m\u001B[38;5;241m.\u001B[39mwrite(\u001B[38;5;124m\"\u001B[39m\u001B[38;5;124m<div>\u001B[39m\u001B[38;5;124m\"\u001B[39m)\n\u001B[0;32m    643\u001B[0m \u001B[38;5;28mself\u001B[39m\u001B[38;5;241m.\u001B[39mwrite_style()\n\u001B[1;32m--> 644\u001B[0m \u001B[38;5;28;43msuper\u001B[39;49m\u001B[43m(\u001B[49m\u001B[43m)\u001B[49m\u001B[38;5;241;43m.\u001B[39;49m\u001B[43mrender\u001B[49m\u001B[43m(\u001B[49m\u001B[43m)\u001B[49m\n\u001B[0;32m    645\u001B[0m \u001B[38;5;28mself\u001B[39m\u001B[38;5;241m.\u001B[39mwrite(\u001B[38;5;124m\"\u001B[39m\u001B[38;5;124m</div>\u001B[39m\u001B[38;5;124m\"\u001B[39m)\n\u001B[0;32m    646\u001B[0m \u001B[38;5;28;01mreturn\u001B[39;00m \u001B[38;5;28mself\u001B[39m\u001B[38;5;241m.\u001B[39melements\n",
      "File \u001B[1;32m~\\anaconda3\\envs\\ctoxpred2\\lib\\site-packages\\pandas\\io\\formats\\html.py:94\u001B[0m, in \u001B[0;36mHTMLFormatter.render\u001B[1;34m(self)\u001B[0m\n\u001B[0;32m     93\u001B[0m \u001B[38;5;28;01mdef\u001B[39;00m \u001B[38;5;21mrender\u001B[39m(\u001B[38;5;28mself\u001B[39m) \u001B[38;5;241m-\u001B[39m\u001B[38;5;241m>\u001B[39m \u001B[38;5;28mlist\u001B[39m[\u001B[38;5;28mstr\u001B[39m]:\n\u001B[1;32m---> 94\u001B[0m     \u001B[38;5;28;43mself\u001B[39;49m\u001B[38;5;241;43m.\u001B[39;49m\u001B[43m_write_table\u001B[49m\u001B[43m(\u001B[49m\u001B[43m)\u001B[49m\n\u001B[0;32m     96\u001B[0m     \u001B[38;5;28;01mif\u001B[39;00m \u001B[38;5;28mself\u001B[39m\u001B[38;5;241m.\u001B[39mshould_show_dimensions:\n\u001B[0;32m     97\u001B[0m         by \u001B[38;5;241m=\u001B[39m \u001B[38;5;28mchr\u001B[39m(\u001B[38;5;241m215\u001B[39m)  \u001B[38;5;66;03m# ×  # noqa: RUF003\u001B[39;00m\n",
      "File \u001B[1;32m~\\anaconda3\\envs\\ctoxpred2\\lib\\site-packages\\pandas\\io\\formats\\html.py:267\u001B[0m, in \u001B[0;36mHTMLFormatter._write_table\u001B[1;34m(self, indent)\u001B[0m\n\u001B[0;32m    261\u001B[0m \u001B[38;5;28mself\u001B[39m\u001B[38;5;241m.\u001B[39mwrite(\n\u001B[0;32m    262\u001B[0m     \u001B[38;5;124mf\u001B[39m\u001B[38;5;124m'\u001B[39m\u001B[38;5;124m<table\u001B[39m\u001B[38;5;132;01m{\u001B[39;00mborder_attr\u001B[38;5;132;01m}\u001B[39;00m\u001B[38;5;124m class=\u001B[39m\u001B[38;5;124m\"\u001B[39m\u001B[38;5;132;01m{\u001B[39;00m\u001B[38;5;124m\"\u001B[39m\u001B[38;5;124m \u001B[39m\u001B[38;5;124m\"\u001B[39m\u001B[38;5;241m.\u001B[39mjoin(_classes)\u001B[38;5;132;01m}\u001B[39;00m\u001B[38;5;124m\"\u001B[39m\u001B[38;5;132;01m{\u001B[39;00mid_section\u001B[38;5;132;01m}\u001B[39;00m\u001B[38;5;124m>\u001B[39m\u001B[38;5;124m'\u001B[39m,\n\u001B[0;32m    263\u001B[0m     indent,\n\u001B[0;32m    264\u001B[0m )\n\u001B[0;32m    266\u001B[0m \u001B[38;5;28;01mif\u001B[39;00m \u001B[38;5;28mself\u001B[39m\u001B[38;5;241m.\u001B[39mfmt\u001B[38;5;241m.\u001B[39mheader \u001B[38;5;129;01mor\u001B[39;00m \u001B[38;5;28mself\u001B[39m\u001B[38;5;241m.\u001B[39mshow_row_idx_names:\n\u001B[1;32m--> 267\u001B[0m     \u001B[38;5;28;43mself\u001B[39;49m\u001B[38;5;241;43m.\u001B[39;49m\u001B[43m_write_header\u001B[49m\u001B[43m(\u001B[49m\u001B[43mindent\u001B[49m\u001B[43m \u001B[49m\u001B[38;5;241;43m+\u001B[39;49m\u001B[43m \u001B[49m\u001B[38;5;28;43mself\u001B[39;49m\u001B[38;5;241;43m.\u001B[39;49m\u001B[43mindent_delta\u001B[49m\u001B[43m)\u001B[49m\n\u001B[0;32m    269\u001B[0m \u001B[38;5;28mself\u001B[39m\u001B[38;5;241m.\u001B[39m_write_body(indent \u001B[38;5;241m+\u001B[39m \u001B[38;5;28mself\u001B[39m\u001B[38;5;241m.\u001B[39mindent_delta)\n\u001B[0;32m    271\u001B[0m \u001B[38;5;28mself\u001B[39m\u001B[38;5;241m.\u001B[39mwrite(\u001B[38;5;124m\"\u001B[39m\u001B[38;5;124m</table>\u001B[39m\u001B[38;5;124m\"\u001B[39m, indent)\n",
      "File \u001B[1;32m~\\anaconda3\\envs\\ctoxpred2\\lib\\site-packages\\pandas\\io\\formats\\html.py:403\u001B[0m, in \u001B[0;36mHTMLFormatter._write_header\u001B[1;34m(self, indent)\u001B[0m\n\u001B[0;32m    400\u001B[0m \u001B[38;5;28mself\u001B[39m\u001B[38;5;241m.\u001B[39mwrite(\u001B[38;5;124m\"\u001B[39m\u001B[38;5;124m<thead>\u001B[39m\u001B[38;5;124m\"\u001B[39m, indent)\n\u001B[0;32m    402\u001B[0m \u001B[38;5;28;01mif\u001B[39;00m \u001B[38;5;28mself\u001B[39m\u001B[38;5;241m.\u001B[39mfmt\u001B[38;5;241m.\u001B[39mheader:\n\u001B[1;32m--> 403\u001B[0m     \u001B[38;5;28;43mself\u001B[39;49m\u001B[38;5;241;43m.\u001B[39;49m\u001B[43m_write_col_header\u001B[49m\u001B[43m(\u001B[49m\u001B[43mindent\u001B[49m\u001B[43m \u001B[49m\u001B[38;5;241;43m+\u001B[39;49m\u001B[43m \u001B[49m\u001B[38;5;28;43mself\u001B[39;49m\u001B[38;5;241;43m.\u001B[39;49m\u001B[43mindent_delta\u001B[49m\u001B[43m)\u001B[49m\n\u001B[0;32m    405\u001B[0m \u001B[38;5;28;01mif\u001B[39;00m \u001B[38;5;28mself\u001B[39m\u001B[38;5;241m.\u001B[39mshow_row_idx_names:\n\u001B[0;32m    406\u001B[0m     \u001B[38;5;28mself\u001B[39m\u001B[38;5;241m.\u001B[39m_write_row_header(indent \u001B[38;5;241m+\u001B[39m \u001B[38;5;28mself\u001B[39m\u001B[38;5;241m.\u001B[39mindent_delta)\n",
      "File \u001B[1;32m~\\anaconda3\\envs\\ctoxpred2\\lib\\site-packages\\pandas\\io\\formats\\html.py:383\u001B[0m, in \u001B[0;36mHTMLFormatter._write_col_header\u001B[1;34m(self, indent)\u001B[0m\n\u001B[0;32m    381\u001B[0m     \u001B[38;5;28;01melse\u001B[39;00m:\n\u001B[0;32m    382\u001B[0m         row\u001B[38;5;241m.\u001B[39mappend(\u001B[38;5;124m\"\u001B[39m\u001B[38;5;124m\"\u001B[39m)\n\u001B[1;32m--> 383\u001B[0m row\u001B[38;5;241m.\u001B[39mextend(\u001B[38;5;28;43mself\u001B[39;49m\u001B[38;5;241;43m.\u001B[39;49m\u001B[43m_get_columns_formatted_values\u001B[49m\u001B[43m(\u001B[49m\u001B[43m)\u001B[49m)\n\u001B[0;32m    384\u001B[0m align \u001B[38;5;241m=\u001B[39m \u001B[38;5;28mself\u001B[39m\u001B[38;5;241m.\u001B[39mfmt\u001B[38;5;241m.\u001B[39mjustify\n\u001B[0;32m    386\u001B[0m \u001B[38;5;28;01mif\u001B[39;00m is_truncated_horizontally:\n",
      "File \u001B[1;32m~\\anaconda3\\envs\\ctoxpred2\\lib\\site-packages\\pandas\\io\\formats\\html.py:611\u001B[0m, in \u001B[0;36mNotebookFormatter._get_columns_formatted_values\u001B[1;34m(self)\u001B[0m\n\u001B[0;32m    609\u001B[0m \u001B[38;5;28;01mdef\u001B[39;00m \u001B[38;5;21m_get_columns_formatted_values\u001B[39m(\u001B[38;5;28mself\u001B[39m) \u001B[38;5;241m-\u001B[39m\u001B[38;5;241m>\u001B[39m \u001B[38;5;28mlist\u001B[39m[\u001B[38;5;28mstr\u001B[39m]:\n\u001B[0;32m    610\u001B[0m     \u001B[38;5;66;03m# only reached with non-Multi Index\u001B[39;00m\n\u001B[1;32m--> 611\u001B[0m     \u001B[38;5;28;01mreturn\u001B[39;00m \u001B[38;5;28;43mself\u001B[39;49m\u001B[38;5;241;43m.\u001B[39;49m\u001B[43mcolumns\u001B[49m\u001B[38;5;241;43m.\u001B[39;49m\u001B[43m_format_flat\u001B[49m(include_name\u001B[38;5;241m=\u001B[39m\u001B[38;5;28;01mFalse\u001B[39;00m)\n",
      "\u001B[1;31mAttributeError\u001B[0m: 'Index' object has no attribute '_format_flat'"
     ]
    },
    {
     "data": {
      "text/plain": [
       "                         InChI  \\\n",
       "0  CVSVTCORWBXHQV-UHFFFAOYSA-N   \n",
       "1  RWZVPVOZTJJMNU-UHFFFAOYSA-N   \n",
       "2  HAWPXGHAZFHHAD-UHFFFAOYSA-N   \n",
       "3  FYDWDCIFZSGNBU-UHFFFAOYSA-N   \n",
       "4  YASAKCUCGLMORW-UHFFFAOYSA-N   \n",
       "5  IXTMWRCNAAVVAI-UHFFFAOYSA-N   \n",
       "6  FBOZXECLQNJBKD-ZDUSSCGKSA-N   \n",
       "7  ABJKWBDEJIDSJZ-UHFFFAOYSA-N   \n",
       "8  DOMXUEMWDBAQBQ-WEVVVXLNSA-N   \n",
       "9  OZGNYLLQHRPOBR-DHZHZOJOSA-N   \n",
       "\n",
       "                                              SMILES      MW  AlogP  HBA  HBD  \\\n",
       "0                                  CN(CC(=O)O)C(=N)N  131.13  -1.10    4    3   \n",
       "1  CN(CCCCCCCCCCN(C)C(=O)Oc1cccc([N+](C)(C)C)c1)C...  556.79   6.76    4    0   \n",
       "2                                       CN(CCCl)CCCl  156.06   1.40    1    0   \n",
       "3  CN(CCN1CCC(OC(=O)Nc2ccccc2-c2ccccc2)CC1)C(=O)c...  597.76   4.84    6    2   \n",
       "4            CN(CCOc1ccc(CC2SC(=O)NC2=O)cc1)c1ccccn1  357.44   2.49    6    1   \n",
       "5  CN(CCOc1ccc(NS(C)(=O)=O)cc1)CCc1ccc(NS(C)(=O)=...  441.58   1.98    6    2   \n",
       "6  CN(Cc1cnc2nc(N)nc(N)c2n1)c1ccc(C(=O)N[C@@H](CC...  454.45   0.27   12    5   \n",
       "7             CN(Cc1ccc(C(C)(C)C)cc1)Cc1cccc2ccccc12  317.48   5.77    1    0   \n",
       "8               CN(C/C=C/C#CC(C)(C)C)Cc1cccc2ccccc12  291.44   4.88    1    0   \n",
       "9                  CN(C/C=C/c1ccccc1)Cc1cccc2ccccc12  287.41   4.99    1    0   \n",
       "\n",
       "     MPSA  ROTB  AROMS  ALERTS  hERG hERG_confidence  Nav1.5  \\\n",
       "0   90.41     2      0       2     0           61.7%       0   \n",
       "1   59.08    15      2       2     1           53.0%       0   \n",
       "2    3.24     4      0       1     0           80.9%       0   \n",
       "3  108.21    10      3       0     1           67.4%       1   \n",
       "4   71.53     7      2       0     0           79.2%       1   \n",
       "5  104.81    11      2       0     1           88.2%       0   \n",
       "6  210.54     9      3       0     0           59.7%       0   \n",
       "7    3.24     4      3       0     1           88.2%       1   \n",
       "8    3.24     4      2       1     1           62.1%       1   \n",
       "9    3.24     5      3       0     1           64.3%       1   \n",
       "\n",
       "  Nav1.5_confidence  Cav1.2 Cav1.2_confidence  \n",
       "0             62.7%       0             65.8%  \n",
       "1             52.5%       1             57.5%  \n",
       "2             60.0%       0             62.7%  \n",
       "3             65.2%       1             61.5%  \n",
       "4             68.8%       0             66.2%  \n",
       "5             82.8%       0             85.0%  \n",
       "6             66.5%       0             67.2%  \n",
       "7             73.5%       1             58.2%  \n",
       "8             69.8%       0             55.5%  \n",
       "9             96.0%       0             60.0%  "
      ]
     },
     "execution_count": 14,
     "metadata": {},
     "output_type": "execute_result"
    }
   ],
   "execution_count": 14
  },
  {
   "cell_type": "code",
   "execution_count": null,
   "metadata": {},
   "outputs": [],
   "source": []
  }
 ],
 "metadata": {
  "kernelspec": {
   "display_name": "Python 3 (ipykernel)",
   "language": "python",
   "name": "python3"
  },
  "language_info": {
   "codemirror_mode": {
    "name": "ipython",
    "version": 3
   },
   "file_extension": ".py",
   "mimetype": "text/x-python",
   "name": "python",
   "nbconvert_exporter": "python",
   "pygments_lexer": "ipython3",
   "version": "3.9.7"
  }
 },
 "nbformat": 4,
 "nbformat_minor": 4
}
